{
 "cells": [
  {
   "cell_type": "markdown",
   "metadata": {},
   "source": [
    "## Cargar los datos\n"
   ]
  },
  {
   "cell_type": "code",
   "execution_count": 1,
   "metadata": {},
   "outputs": [],
   "source": [
    "import pandas as pd\n",
    "import numpy as np\n",
    "\n",
    "datos_completos = pd.read_csv('pericias_medicas.csv', encoding='latin-1')\n",
    "datos_text = datos_completos['text'].apply(str)"
   ]
  },
  {
   "cell_type": "markdown",
   "metadata": {},
   "source": [
    "## Visualizar los datos"
   ]
  },
  {
   "cell_type": "markdown",
   "metadata": {},
   "source": [
    "Muestra las primeras 5 filas del dataframe"
   ]
  },
  {
   "cell_type": "code",
   "execution_count": 2,
   "metadata": {},
   "outputs": [
    {
     "data": {
      "text/plain": [
       "0     \\n\\nInforma a continuaciÃ³n: \\n\\nJ.T. 13 \\nPE...\n",
       "1     \\n\\nJUZG. 40 \\n\\nPERITO MEDICO PRESENTA INFOR...\n",
       "2    Expediente NÂº CNT 74803/2014 \\n \\nJUZGADO NAC...\n",
       "3    JUZGADO NACIONAL DE TRABAJO 59       LAVALLE 1...\n",
       "4     \\n\\n \\n\\nPERITO PRESENTA INFORME \\n\\n \\n\\n \\n...\n",
       "Name: text, dtype: object"
      ]
     },
     "execution_count": 2,
     "metadata": {},
     "output_type": "execute_result"
    }
   ],
   "source": [
    "datos_completos.head()\n",
    "#datos_text.head()\n"
   ]
  },
  {
   "cell_type": "markdown",
   "metadata": {},
   "source": [
    "Muestra las 5 últimas filas"
   ]
  },
  {
   "cell_type": "code",
   "execution_count": null,
   "metadata": {},
   "outputs": [
    {
     "data": {
      "text/html": [
       "<div>\n",
       "<style scoped>\n",
       "    .dataframe tbody tr th:only-of-type {\n",
       "        vertical-align: middle;\n",
       "    }\n",
       "\n",
       "    .dataframe tbody tr th {\n",
       "        vertical-align: top;\n",
       "    }\n",
       "\n",
       "    .dataframe thead th {\n",
       "        text-align: right;\n",
       "    }\n",
       "</style>\n",
       "<table border=\"1\" class=\"dataframe\">\n",
       "  <thead>\n",
       "    <tr style=\"text-align: right;\">\n",
       "      <th></th>\n",
       "      <th>id</th>\n",
       "      <th>expediente</th>\n",
       "      <th>descripcion</th>\n",
       "      <th>text</th>\n",
       "    </tr>\n",
       "  </thead>\n",
       "  <tbody>\n",
       "    <tr>\n",
       "      <th>3801</th>\n",
       "      <td>Nl-nwn4BnVaELRcKLRE6</td>\n",
       "      <td>CNT71702/2015</td>\n",
       "      <td>perito mÃ©dica sube informe [presentado 21 03 ...</td>\n",
       "      <td>1 \\n \\n\\n21-3-2018 \\nTRABAJO NÂº  72 \\nPRESENT...</td>\n",
       "    </tr>\n",
       "    <tr>\n",
       "      <th>3802</th>\n",
       "      <td>pF-mwn4BnVaELRcK1BDM</td>\n",
       "      <td>CNT69371/2014</td>\n",
       "      <td>perito mÃ©dico legista presenta pericia mÃ©dic...</td>\n",
       "      <td>\\n\\n \\n\\nJNT  NÂº  75  â  PARANA  520  â ...</td>\n",
       "    </tr>\n",
       "    <tr>\n",
       "      <th>3803</th>\n",
       "      <td>OF-nwn4BnVaELRcKPBGf</td>\n",
       "      <td>CNT61103/2017</td>\n",
       "      <td>perito medico presenta pericia [presentado 05 ...</td>\n",
       "      <td>\\n\\nII.- HISTORIA CLINICA \\n\\n) se dirige a V...</td>\n",
       "    </tr>\n",
       "    <tr>\n",
       "      <th>3804</th>\n",
       "      <td>1l-mwn4BnVaELRcK-xB3</td>\n",
       "      <td>CNT16621/2017</td>\n",
       "      <td>perito psicÃ³logo informa segunda incomparecen...</td>\n",
       "      <td>PERITO PSICÃLOGO INFORMA SEGUNDA INCOMPARECEN...</td>\n",
       "    </tr>\n",
       "    <tr>\n",
       "      <th>3805</th>\n",
       "      <td>BV-nwn4BnVaELRcK6xK2</td>\n",
       "      <td>CNT65323/2016</td>\n",
       "      <td>perito medico presenta pericia [presentado 02 ...</td>\n",
       "      <td>Juzgado Nacional del Trabajo NÂ°: 27 \\n\\nTte. ...</td>\n",
       "    </tr>\n",
       "  </tbody>\n",
       "</table>\n",
       "</div>"
      ],
      "text/plain": [
       "                        id     expediente  \\\n",
       "3801  Nl-nwn4BnVaELRcKLRE6  CNT71702/2015   \n",
       "3802  pF-mwn4BnVaELRcK1BDM  CNT69371/2014   \n",
       "3803  OF-nwn4BnVaELRcKPBGf  CNT61103/2017   \n",
       "3804  1l-mwn4BnVaELRcK-xB3  CNT16621/2017   \n",
       "3805  BV-nwn4BnVaELRcK6xK2  CNT65323/2016   \n",
       "\n",
       "                                            descripcion  \\\n",
       "3801  perito mÃ©dica sube informe [presentado 21 03 ...   \n",
       "3802  perito mÃ©dico legista presenta pericia mÃ©dic...   \n",
       "3803  perito medico presenta pericia [presentado 05 ...   \n",
       "3804  perito psicÃ³logo informa segunda incomparecen...   \n",
       "3805  perito medico presenta pericia [presentado 02 ...   \n",
       "\n",
       "                                                   text  \n",
       "3801  1 \\n \\n\\n21-3-2018 \\nTRABAJO NÂº  72 \\nPRESENT...  \n",
       "3802   \\n\\n \\n\\nJNT  NÂº  75  â  PARANA  520  â ...  \n",
       "3803   \\n\\nII.- HISTORIA CLINICA \\n\\n) se dirige a V...  \n",
       "3804  PERITO PSICÃLOGO INFORMA SEGUNDA INCOMPARECEN...  \n",
       "3805  Juzgado Nacional del Trabajo NÂ°: 27 \\n\\nTte. ...  "
      ]
     },
     "execution_count": 43,
     "metadata": {},
     "output_type": "execute_result"
    }
   ],
   "source": [
    "datos_completos.tail()\n",
    "#datos_text.tail()"
   ]
  },
  {
   "cell_type": "markdown",
   "metadata": {},
   "source": [
    "Muestra la cantidad de filas que queremos ver al azar"
   ]
  },
  {
   "cell_type": "code",
   "execution_count": null,
   "metadata": {},
   "outputs": [
    {
     "data": {
      "text/html": [
       "<div>\n",
       "<style scoped>\n",
       "    .dataframe tbody tr th:only-of-type {\n",
       "        vertical-align: middle;\n",
       "    }\n",
       "\n",
       "    .dataframe tbody tr th {\n",
       "        vertical-align: top;\n",
       "    }\n",
       "\n",
       "    .dataframe thead th {\n",
       "        text-align: right;\n",
       "    }\n",
       "</style>\n",
       "<table border=\"1\" class=\"dataframe\">\n",
       "  <thead>\n",
       "    <tr style=\"text-align: right;\">\n",
       "      <th></th>\n",
       "      <th>id</th>\n",
       "      <th>expediente</th>\n",
       "      <th>descripcion</th>\n",
       "      <th>text</th>\n",
       "    </tr>\n",
       "  </thead>\n",
       "  <tbody>\n",
       "    <tr>\n",
       "      <th>2205</th>\n",
       "      <td>QF2LwX4BnVaELRcKa6BL</td>\n",
       "      <td>CNT46385/2017</td>\n",
       "      <td>perito medico informa [presentado 08 06 2018 1...</td>\n",
       "      <td>\\nJuzgado  Nacional \\ndel \\nTrabajo  NÂ°18  s...</td>\n",
       "    </tr>\n",
       "    <tr>\n",
       "      <th>3461</th>\n",
       "      <td>8F7kwX4BnVaELRcKiBKw</td>\n",
       "      <td>CNT52178/2016</td>\n",
       "      <td>perito medico presenta informe pericial [prese...</td>\n",
       "      <td>PERITO MEDICO PRESENTA INFORME PERICIAL. \\n\\nS...</td>\n",
       "    </tr>\n",
       "    <tr>\n",
       "      <th>3229</th>\n",
       "      <td>F11hwX4BnVaELRcKRGoI</td>\n",
       "      <td>CNT36690/2016</td>\n",
       "      <td>perito medico informa [presentado 11 04 2018 1...</td>\n",
       "      <td>JUZ  NÂº 33 \\nExp NÂº 36690/2016  \\nPERITO MED...</td>\n",
       "    </tr>\n",
       "    <tr>\n",
       "      <th>3763</th>\n",
       "      <td>JF6Rwn4BnVaELRcKc_US</td>\n",
       "      <td>CNT54915/2015</td>\n",
       "      <td>perito medico presenta informe pericial [prese...</td>\n",
       "      <td>JUZGADO NACIONAL DEL TRABAJO  NÂ° 65 \\nPERITO ...</td>\n",
       "    </tr>\n",
       "    <tr>\n",
       "      <th>2956</th>\n",
       "      <td>SlzEwH4BnVaELRcK-aHs</td>\n",
       "      <td>CNT64102/2016</td>\n",
       "      <td>pericia medica [presentado 05 07 2018 08 56]</td>\n",
       "      <td>Ref.:Pastorizo Alberto Mauricio C/ Preven...</td>\n",
       "    </tr>\n",
       "    <tr>\n",
       "      <th>266</th>\n",
       "      <td>j1zJwH4BnVaELRcKD6bU</td>\n",
       "      <td>CNT8886/2016</td>\n",
       "      <td>presenta pericia medica [presentado 18 04 2017...</td>\n",
       "      <td>Juzgado Nacional del \\nTrabajo No. 34 \\n\\nPero...</td>\n",
       "    </tr>\n",
       "    <tr>\n",
       "      <th>1194</th>\n",
       "      <td>0V--wn4BnVaELRcKOS4a</td>\n",
       "      <td>CNT46619/2017</td>\n",
       "      <td>presenta informe pericial [presentado 10 04 20...</td>\n",
       "      <td>JUZGADO DE PRIMERA INSTANCIA DEL TRABAJO NÂº 4...</td>\n",
       "    </tr>\n",
       "    <tr>\n",
       "      <th>900</th>\n",
       "      <td>j14awn4BnVaELRcKQVmf</td>\n",
       "      <td>CNT73004/2015</td>\n",
       "      <td>perito psi presenta informe  parte 1 de 2  [pr...</td>\n",
       "      <td>Juzgado Nacional de Primera Instancia del Trab...</td>\n",
       "    </tr>\n",
       "    <tr>\n",
       "      <th>997</th>\n",
       "      <td>9l5Lwn4BnVaELRcKEpp-</td>\n",
       "      <td>CNT12705/2017</td>\n",
       "      <td>perito medica presenta peritaciÃ³n [presentado...</td>\n",
       "      <td>Expediente  12705/2017  \\n     ...</td>\n",
       "    </tr>\n",
       "    <tr>\n",
       "      <th>2234</th>\n",
       "      <td>1V2dwX4BnVaELRcKCLZh</td>\n",
       "      <td>CNT4247/2015</td>\n",
       "      <td>pericia medica [presentado 02 04 2017 18 42]</td>\n",
       "      <td>PERITO MÃDICO PRESENTA INFORME PERICIAL \\n\\nJ...</td>\n",
       "    </tr>\n",
       "  </tbody>\n",
       "</table>\n",
       "</div>"
      ],
      "text/plain": [
       "                        id     expediente  \\\n",
       "2205  QF2LwX4BnVaELRcKa6BL  CNT46385/2017   \n",
       "3461  8F7kwX4BnVaELRcKiBKw  CNT52178/2016   \n",
       "3229  F11hwX4BnVaELRcKRGoI  CNT36690/2016   \n",
       "3763  JF6Rwn4BnVaELRcKc_US  CNT54915/2015   \n",
       "2956  SlzEwH4BnVaELRcK-aHs  CNT64102/2016   \n",
       "266   j1zJwH4BnVaELRcKD6bU   CNT8886/2016   \n",
       "1194  0V--wn4BnVaELRcKOS4a  CNT46619/2017   \n",
       "900   j14awn4BnVaELRcKQVmf  CNT73004/2015   \n",
       "997   9l5Lwn4BnVaELRcKEpp-  CNT12705/2017   \n",
       "2234  1V2dwX4BnVaELRcKCLZh   CNT4247/2015   \n",
       "\n",
       "                                            descripcion  \\\n",
       "2205  perito medico informa [presentado 08 06 2018 1...   \n",
       "3461  perito medico presenta informe pericial [prese...   \n",
       "3229  perito medico informa [presentado 11 04 2018 1...   \n",
       "3763  perito medico presenta informe pericial [prese...   \n",
       "2956       pericia medica [presentado 05 07 2018 08 56]   \n",
       "266   presenta pericia medica [presentado 18 04 2017...   \n",
       "1194  presenta informe pericial [presentado 10 04 20...   \n",
       "900   perito psi presenta informe  parte 1 de 2  [pr...   \n",
       "997   perito medica presenta peritaciÃ³n [presentado...   \n",
       "2234       pericia medica [presentado 02 04 2017 18 42]   \n",
       "\n",
       "                                                   text  \n",
       "2205   \\nJuzgado  Nacional \\ndel \\nTrabajo  NÂ°18  s...  \n",
       "3461  PERITO MEDICO PRESENTA INFORME PERICIAL. \\n\\nS...  \n",
       "3229  JUZ  NÂº 33 \\nExp NÂº 36690/2016  \\nPERITO MED...  \n",
       "3763  JUZGADO NACIONAL DEL TRABAJO  NÂ° 65 \\nPERITO ...  \n",
       "2956       Ref.:Pastorizo Alberto Mauricio C/ Preven...  \n",
       "266   Juzgado Nacional del \\nTrabajo No. 34 \\n\\nPero...  \n",
       "1194  JUZGADO DE PRIMERA INSTANCIA DEL TRABAJO NÂº 4...  \n",
       "900   Juzgado Nacional de Primera Instancia del Trab...  \n",
       "997                  Expediente  12705/2017  \\n     ...  \n",
       "2234  PERITO MÃDICO PRESENTA INFORME PERICIAL \\n\\nJ...  "
      ]
     },
     "execution_count": 44,
     "metadata": {},
     "output_type": "execute_result"
    }
   ],
   "source": [
    "datos_completos.sample(10)\n",
    "#datos_text.sample(5)"
   ]
  },
  {
   "cell_type": "markdown",
   "metadata": {},
   "source": [
    "Tamaño del dataframe (filas y columnas)"
   ]
  },
  {
   "cell_type": "code",
   "execution_count": null,
   "metadata": {},
   "outputs": [
    {
     "data": {
      "text/plain": [
       "(3806, 4)"
      ]
     },
     "execution_count": 48,
     "metadata": {},
     "output_type": "execute_result"
    }
   ],
   "source": [
    "datos_completos.shape\n"
   ]
  },
  {
   "cell_type": "markdown",
   "metadata": {},
   "source": [
    "## Análisis de los datos"
   ]
  },
  {
   "cell_type": "markdown",
   "metadata": {},
   "source": [
    "General"
   ]
  },
  {
   "cell_type": "code",
   "execution_count": null,
   "metadata": {},
   "outputs": [
    {
     "name": "stdout",
     "output_type": "stream",
     "text": [
      "<class 'pandas.core.frame.DataFrame'>\n",
      "RangeIndex: 3806 entries, 0 to 3805\n",
      "Data columns (total 4 columns):\n",
      " #   Column       Non-Null Count  Dtype \n",
      "---  ------       --------------  ----- \n",
      " 0   id           3806 non-null   object\n",
      " 1   expediente   3806 non-null   object\n",
      " 2   descripcion  3806 non-null   object\n",
      " 3   text         3806 non-null   object\n",
      "dtypes: object(4)\n",
      "memory usage: 119.1+ KB\n"
     ]
    }
   ],
   "source": [
    "datos_completos.info()"
   ]
  },
  {
   "cell_type": "code",
   "execution_count": null,
   "metadata": {},
   "outputs": [
    {
     "data": {
      "text/html": [
       "<div>\n",
       "<style scoped>\n",
       "    .dataframe tbody tr th:only-of-type {\n",
       "        vertical-align: middle;\n",
       "    }\n",
       "\n",
       "    .dataframe tbody tr th {\n",
       "        vertical-align: top;\n",
       "    }\n",
       "\n",
       "    .dataframe thead th {\n",
       "        text-align: right;\n",
       "    }\n",
       "</style>\n",
       "<table border=\"1\" class=\"dataframe\">\n",
       "  <thead>\n",
       "    <tr style=\"text-align: right;\">\n",
       "      <th></th>\n",
       "      <th>count</th>\n",
       "      <th>unique</th>\n",
       "      <th>top</th>\n",
       "      <th>freq</th>\n",
       "    </tr>\n",
       "  </thead>\n",
       "  <tbody>\n",
       "    <tr>\n",
       "      <th>id</th>\n",
       "      <td>3806</td>\n",
       "      <td>3806</td>\n",
       "      <td>GlspwH4BnVaELRcK5Nqb</td>\n",
       "      <td>1</td>\n",
       "    </tr>\n",
       "    <tr>\n",
       "      <th>expediente</th>\n",
       "      <td>3806</td>\n",
       "      <td>3063</td>\n",
       "      <td>CNT77158/2015</td>\n",
       "      <td>11</td>\n",
       "    </tr>\n",
       "    <tr>\n",
       "      <th>descripcion</th>\n",
       "      <td>3806</td>\n",
       "      <td>3782</td>\n",
       "      <td>pericia mÃ©dica [presentado 04 06 2017 10 18]</td>\n",
       "      <td>3</td>\n",
       "    </tr>\n",
       "    <tr>\n",
       "      <th>text</th>\n",
       "      <td>3806</td>\n",
       "      <td>3653</td>\n",
       "      <td>\\n\\n \\n\\nCONTESTA PERICIA MEDICA \\n \\nSEÃOR ...</td>\n",
       "      <td>8</td>\n",
       "    </tr>\n",
       "  </tbody>\n",
       "</table>\n",
       "</div>"
      ],
      "text/plain": [
       "            count unique                                                top  \\\n",
       "id           3806   3806                               GlspwH4BnVaELRcK5Nqb   \n",
       "expediente   3806   3063                                      CNT77158/2015   \n",
       "descripcion  3806   3782      pericia mÃ©dica [presentado 04 06 2017 10 18]   \n",
       "text         3806   3653   \\n\\n \\n\\nCONTESTA PERICIA MEDICA \\n \\nSEÃOR ...   \n",
       "\n",
       "            freq  \n",
       "id             1  \n",
       "expediente    11  \n",
       "descripcion    3  \n",
       "text           8  "
      ]
     },
     "execution_count": 50,
     "metadata": {},
     "output_type": "execute_result"
    }
   ],
   "source": [
    "datos_completos.describe().T"
   ]
  },
  {
   "cell_type": "code",
   "execution_count": null,
   "metadata": {},
   "outputs": [
    {
     "data": {
      "text/plain": [
       "array(['GlspwH4BnVaELRcK5Nqb', 'BlstwH4BnVaELRcKw9-O',\n",
       "       'b1stwH4BnVaELRcKRt7I', ..., 'OF-nwn4BnVaELRcKPBGf',\n",
       "       '1l-mwn4BnVaELRcK-xB3', 'BV-nwn4BnVaELRcK6xK2'], dtype=object)"
      ]
     },
     "execution_count": 53,
     "metadata": {},
     "output_type": "execute_result"
    }
   ],
   "source": [
    "datos_completos['id'].unique()"
   ]
  },
  {
   "cell_type": "markdown",
   "metadata": {},
   "source": [
    "## Limpieza de los datos\n"
   ]
  },
  {
   "cell_type": "markdown",
   "metadata": {},
   "source": [
    "Valores nulos"
   ]
  },
  {
   "cell_type": "code",
   "execution_count": null,
   "metadata": {},
   "outputs": [
    {
     "data": {
      "text/plain": [
       "id             0\n",
       "expediente     0\n",
       "descripcion    0\n",
       "text           0\n",
       "dtype: int64"
      ]
     },
     "execution_count": 54,
     "metadata": {},
     "output_type": "execute_result"
    }
   ],
   "source": [
    "cantidad_nulos = datos_completos.isna().sum()\n",
    "cantidad_nulos\n",
    "# No hay ninguna celda con valor nulo"
   ]
  },
  {
   "cell_type": "markdown",
   "metadata": {},
   "source": [
    "Datos duplicados"
   ]
  },
  {
   "cell_type": "code",
   "execution_count": null,
   "metadata": {},
   "outputs": [
    {
     "data": {
      "text/html": [
       "<div>\n",
       "<style scoped>\n",
       "    .dataframe tbody tr th:only-of-type {\n",
       "        vertical-align: middle;\n",
       "    }\n",
       "\n",
       "    .dataframe tbody tr th {\n",
       "        vertical-align: top;\n",
       "    }\n",
       "\n",
       "    .dataframe thead th {\n",
       "        text-align: right;\n",
       "    }\n",
       "</style>\n",
       "<table border=\"1\" class=\"dataframe\">\n",
       "  <thead>\n",
       "    <tr style=\"text-align: right;\">\n",
       "      <th></th>\n",
       "      <th>id</th>\n",
       "      <th>expediente</th>\n",
       "      <th>descripcion</th>\n",
       "      <th>text</th>\n",
       "    </tr>\n",
       "  </thead>\n",
       "  <tbody>\n",
       "  </tbody>\n",
       "</table>\n",
       "</div>"
      ],
      "text/plain": [
       "Empty DataFrame\n",
       "Columns: [id, expediente, descripcion, text]\n",
       "Index: []"
      ]
     },
     "execution_count": 55,
     "metadata": {},
     "output_type": "execute_result"
    }
   ],
   "source": [
    "datos_completos[datos_completos.duplicated()]\n",
    "#No hay celdas duplicadas"
   ]
  },
  {
   "cell_type": "code",
   "execution_count": null,
   "metadata": {},
   "outputs": [
    {
     "data": {
      "text/plain": [
       "dtype('O')"
      ]
     },
     "execution_count": 63,
     "metadata": {},
     "output_type": "execute_result"
    }
   ],
   "source": [
    "datos_completos['id'].dtype\n",
    "#Tipo de dato object"
   ]
  },
  {
   "cell_type": "code",
   "execution_count": 2,
   "metadata": {},
   "outputs": [
    {
     "ename": "NameError",
     "evalue": "name 'datos_text' is not defined",
     "output_type": "error",
     "traceback": [
      "\u001b[1;31m---------------------------------------------------------------------------\u001b[0m",
      "\u001b[1;31mNameError\u001b[0m                                 Traceback (most recent call last)",
      "\u001b[1;32mc:\\Users\\brena\\HubLegal\\Repo\\ProyectoNahir\\limpiezaTexto.ipynb Cell 23'\u001b[0m in \u001b[0;36m<cell line: 1>\u001b[1;34m()\u001b[0m\n\u001b[1;32m----> <a href='vscode-notebook-cell:/c%3A/Users/brena/HubLegal/Repo/ProyectoNahir/limpiezaTexto.ipynb#ch0000022?line=0'>1</a>\u001b[0m \u001b[39mprint\u001b[39m(datos_text)\n",
      "\u001b[1;31mNameError\u001b[0m: name 'datos_text' is not defined"
     ]
    }
   ],
   "source": [
    "print(datos_text)"
   ]
  },
  {
   "cell_type": "code",
   "execution_count": 3,
   "metadata": {},
   "outputs": [
    {
     "data": {
      "text/plain": [
       "' \\n\\nInforma a continuaciÃ³n: \\n\\nJ.T. 13 \\nPERITO MEDICO PRESENTA INFORME PERICIAL \\n \\nAutos: â\\x80\\x9cBOIERO FRANCO IVAN c/SWISS MEDICAL ART S.A.   s/Accidente - Ley Especialâ\\x80\\x9d \\nExpediente N.Âº: 71399/2017 \\n \\nI-PROEMIO: \\n \\nSr. JUEZ NACIONAL: \\n \\nHORTAS  MARIA ANDREA  S.  perito  mÃ©dico  de  oficio  en  los  siguientes \\nautos, con domicilio constituido en la calle Austria 1754 3Âº piso Dpto. 10 de esta \\nCapital Z 172, tel.  4325-8802 domicilio electrÃ³nico mashortas@hotmail.com, 27-\\n16523394-3  en cumplimiento lo dispuesto por V.S. referente a los presentes autos \\ny  despuÃ©s  de  haber  examinado  a  quiÃ©n  dijo  ser    Boiero  Franco  IvÃ¡n  quiÃ©n  se \\ntomaron  en  el  momento  del  examen  el  estado  clÃ\\xadnico  actual  se  consideraron    la \\ncapacidad genÃ©rica y en particular los puntos de pericia solicitados por las partes \\ny/o V.S.: \\n \\n \\n \\nII-ANTECEDENTES DE INTERES MEDICO-LEGAL: \\nFoja 3 Inicia la demanda \\nFoja 6 vta. Hechos accidente in itinere refiere que el 20 de setiembre del 2017 siendo \\nlas 5:10h se encontraba en camino al trabajo y al cruzar la calle piso una piedra con \\nel pie izquierdo que queda trabado girando su cuerpo y sufriendo una entorsis en \\nsu tobillo izquierdo asÃ\\xad y como consecuencia del fuerte dolor es que da aviso a su \\nempleador quien realiza la correspondiente denuncia a la ART donde le realizan \\nestudios radiogrÃ¡ficos le indican reposo y kinesiologÃ\\xada otorgÃ¡ndole el alta mÃ©dica \\nsin incapacidad. \\nCabe  destacar  que  previo  al  accidente  nunca  presento  sintomatologÃ\\xada  como \\ntampoco  ingresos  a  la  ART  por  dolencias  en  la  zona  denunciada  .  JamÃ¡s  se  le \\nrealizo  un  examen  preocupacional  ni  periÃ³dico  .  Sostiene  que  presenta  una \\nIncapacidad del 8%.  \\nFoja 7 vta.  refiere que el accidente tambiÃ©n determinÃ³ daÃ±o psÃ\\xadquico en el actor. \\nFoja 27 Puntos de pericia mÃ©dica  \\nFoja 27 vta. Puntos de pericia psicolÃ³gica  \\nFoja 45 Contesta la demandada \\nFoja 49 Niega todos y cada uno de los hechos  \\nFoja 50 Hechos: el siniestro laboral fue denunciado al demandado , con respecto al \\naccidente ocurrido fue denunciado a Swiss Medical bajo el siniestro 21700033815 \\nel  cual  fue  aceptado  por  el  demandado,  y  se  le  brindo  las  prestaciones \\ncorrespondientes en especie manteniendo la atenciÃ³n hasta el 25/10/17 en que fue \\ndado de alta sin incapacidad.  \\nFoja 69 puntos de pericia mÃ©dica y psicolÃ³gica  \\n\\n1 \\n \\n\\n\\x0cIII-EXAMEN FISICO DEL ACTOR: \\n \\nIII-1 PROSOGRAFIA: Se presenta al examen una persona del sexo masculino que \\ndeambula por sus propios medios sin ayuda de terceros, ni prÃ³tesis alguna, color \\nde  piel  blanca  cabello  castaÃ±o  corto  pronuncia  correctamente  las  palabras,  su \\naspecto  es  bueno  y  colaborador,  y  la  presentaciÃ³n  correcta  y  adecuada  con  un \\ncomportamiento  acorde  al  entorno  y  la  ocasiÃ³n.  Concurre  sin  acompaÃ±antes  al \\npresente  examen  mÃ©dico  y  en  la  solicitud  de  estudios    que    se  realizÃ³  el    20  de \\nmarzo del 2019  Refiere los hechos por sÃ\\xad mismo. \\n \\nIII-2 MOTIVO DE LA EVALUACION: \\n- LimitaciÃ³n movilidad del tobillo izquierdo \\n- DepresiÃ³n  \\n \\nIII-3  DATOS  PERSONALES:  El  examinado      que  concurre  solo  a  su  examen, \\nproporciona por sÃ\\xad misma los datos asentados en este informe y se identifica con \\nDNI  32.385.243    declara  haber  nacido  el  23  de  mayo  de  1986,    de  33  aÃ±os    de \\nnacionalidad  argentina,  estudios  terciarios  completos  en  Seguridad  e  Higiene, \\nocupaciÃ³n  comerciante.  Domiciliado  en  la  calle  Robert  Kennedy    3447  de  la \\nlocalidad de Villa de Mayo  de la   Pcia. Bs.As.  estado soltero vive en pareja y tiene \\nun  hija  de  9  meses  .  No  refiere  alergias  medicamentosas,  refiere  antecedentes \\nquirÃºrgicos apendicectomÃ\\xada y varicocele. No recibe  tratamiento medicamentoso. \\nEs zurdo  en su actividad diaria, fuma 2 cigarrillos por dÃ\\xada no consume alcohol y \\npracticaba futbol que dejÃ³ .  \\n  \\n\\n \\n\\n \\n \\nIII-4  RELATO  DE  LOS HECHOS:  El  siguiente  Ã\\xadtem  corresponde  al  relato de  los \\nhechos segÃºn como lo ha efectuado el actor en la  presente entrevista.  :  refiere que, \\nen agosto del 2017, yendo a trabajar a ASPRO Delta Compresiones , el viaje era \\nprimero  en  tren  y  luego  tomaba  un  colectivo  en  la  EstaciÃ³n  Belgrano  Norte. \\nComenta que la misma la estaban arreglando por correr pisÃ³ mal sobre una piedra \\ny se doblÃ³ el tobillo, por lo que quedo inmovilizado. Dio aviso a su empleador al \\ndepartamento de seguridad e higiene, ya que estaba trabajando por agencia y la \\n\\n2 \\n\\n\\x0cempresa lo enviÃ³ a la ART  y  lo derivaron a Villa Lynch a una ClÃ\\xadnica, por Swiss \\nMedical. Al llegar el pie estaba edematizado, a pesar de ello  lo hicieron recorrer \\nhaciendo los tramites, que lo debiÃ³ hacer saltando en un pie  ya que no tenÃ\\xada como \\ntrasladarse. Le dieron luego una silla de rueda, lo examinaron le diagnosticaron \\nun esguince y lo mandaron a la casa  con analgÃ©sicos.  Nunca lo inmovilizaron , las   \\nmuletas, se las consiguieron 15  dÃ\\xadas despuÃ©s. Nunca le otorgaron traslado , y la \\nkinesiologÃ\\xada se le otorgaron una vez por dÃ\\xada casi por un mes y estuvo por 15 dÃ\\xadas \\nsin poder apoyar el pie por lo que iba saltando en el pie sano. Los primeros dÃ\\xadas \\ncasi no podÃ\\xada tocarse . Le pusieron magnetoterapia y le dieron 15 min de ejercicios \\nde apoyo a los 10 dÃ\\xadas le dieron el apto y como seguÃ\\xada con dolores le otorgaron 5 \\nsesiones  mÃ¡s  y  continuaba  con  los  mismos  ejercicios.  Cuando  comenzÃ³  con  el \\napoyo  como  pisaba mal  se  le  resintiÃ³  la rodilla,  el  pie  seguÃ\\xada  edematizado  y  no \\npodÃ\\xada caminar , le otorgaron 3 sesiones mÃ¡s y el alta que firmÃ³ en disconformidad \\ncuando  se  reincorporÃ³  lo  echaron.  Las  tareas  que  realizaba  era  montaje  de \\ncompresores de gas , por lo cual la actividad las realizaba  parado y trepado \\n \\n \\nIII-5-SEMIOLOGIA DE LAS AFECCIONES: \\n1. \\nGENERAL  el  examinado  presenta  un  buen  estado  general,  su  actitud  es \\nactiva e indiferente, no se aprecian  posturas patolÃ³gicas, la marcha es normal en \\nsus fases de impulso apoyo y balanceo, no presenta dificultades para la marcha en \\npunta de pie y ni talÃ³n .  No presenta cicatrices en la regiÃ³n en cuestiÃ³n. Pesa 70 kg \\ny mide 1,66 lo que determina un IMC de 25,45 correspondiente a la categorÃ\\xada de \\nsobrepeso \\n \\n2. TOBILLO:  \\nAnamnesis:  refiere  que  persisten  los  dolores  del  tobillo,  no  puede  jugar  mÃ¡s  al \\nfutbol, porque le empieza a doler el malÃ©olo externo y siente un tirÃ³n en la rodilla \\nSi permanece de pie por tiempo prolongado, el pie comienza a edematizarse  le \\nsucede lo mismo cuando camina mucho.   \\nExamen FÃ\\xadsico: al momento del examen no se constataron edemas, a la palpaciÃ³n \\npresentÃ³ dolor con maniobras defensivas  del en la regiÃ³n retromaleolar  externo   \\nDiÃ¡metro  bimaleolar  derecho  23  cm,  izquierdo  24  cm.  Se  constatÃ³  la  movilidad \\nactiva y la pasiva siendo la misma mesurada con goniÃ³metro y volcada al presente \\ninforme. \\n \\n\\n \\nFlexiÃ³n dorsal \\nFlexiÃ³n plantar \\nInversiÃ³n \\nEversiÃ³n  \\n\\nT. Derecho \\n30Â° \\n40Â° \\n30Â° \\n20Â° \\n\\nT. Izq. \\n20Â° \\n30Â° \\n20Â° \\n20Â° \\n\\n \\n\\n3 \\n \\n\\n\\x0c-EXAMENES COMPLEMENTARIOS : RMN de tobillo izquierdo \\n \\n\\n \\n\\n \\n4. PSICOENTREVISTA: El actor realiza un relato de los hechos, preciso, coherente, \\nsin signos de fabulaciÃ³n. Con un lenguaje escaso y es parco en el relato, y acorde a \\nsu  nivel  cultural,  se  presentÃ³  a  las  entrevistas  periciales  en  buen  estado  de \\nprolijidad  en  sus  ropas  y  modales.  No  ofreciÃ³  obstÃ¡culos  en  sus  referencias  y \\ncolaborÃ³  con  el  interrogatorio,  el  examen  fÃ\\xadsico  y  las  pruebas  a  las  que  fue \\nsometido.  Tiene  un  diÃ¡logo  sencillo  acorde  a  su  nivel  educativo,  mantiene  una \\nactitud  atenta  y  cordial  al  diÃ¡logo,  con  correlaciÃ³n  entre  el  pensamiento  y  la \\ndicciÃ³n. Se mantuvo orientado en tiempo y espacio. No presenta alteraciones del \\njuicio  ni  del  pensamiento,  no  presenta  alteraciones  de  la  memoria.  No  tiene \\nantecedentes  familiares  ni  personales  de  traumatismo  de  crÃ¡neo,  tumores  del \\nsistema nervioso central.  Su grupo familiar de origen esta constituido por su padre \\nquien estÃ¡ vivo sana y trabaja de maestro mayor de obra. Su madre esta viva sana \\ny es ama de casa son 4 hermanos. Comenta que naciÃ³ en la localidad de Malvinas \\nArgentinas y describe su infancia como buena, tiene una familia unida sus padres \\nestÃ¡n juntos. Los estudios primarios los cursÃ³ en la Escuela Jean Piaget  de donde \\naÃºn conserva amigos. Practicaba handball , con respecto a la adolescencia comenta \\nque los estudios los efectuÃ³ en el Colegio Teresita de Liseaux, y estÃ¡ en contacto \\naun con los amigos y continuaba  jugando futbol y handball. Los fines de semana \\nsalÃ\\xada con amigos era de ir a  bailar poco. Le gustaba estudiar mÃºsica , el padre es \\nmusico, toca  guitarra, piano hoy en dÃ\\xada en la casa de sus padres hay una sala de \\nensayo. Cuando finalizÃ³ el secundario comenzÃ³ a trabajar con el padre en Siemens \\ny comenzÃ³ en la UBA a estudiar diseÃ±o grÃ¡fico, hizo el CBC, pero luego lo dejÃ³ y \\nse dedicÃ³ a trabajar. Inicio luego en la UTN la tecnicatura en seguridad e higiene \\nen el 2014. En su tiempo libre esta con su familia y amigos. A su seÃ±ora la conociÃ³ \\npor unos amigos, ella trabaja con Ã©l tienen un comercio, despuÃ©s de que dejo de \\ntrabajar en ASPRO realizo diferentes tareas, comenzÃ³ en una empresa de montaje \\nde equipos por diagnÃ³stico por imÃ¡genes estuvo cerca de 8 meses, pero luego por \\n\\n4 \\n\\n\\x0ccuestiones formales se fue y luego empezÃ³ a trabajar en una empresa similar, pero \\ncon sede en CÃ³rdoba hasta septiembre del 2018 que realizÃ³ una inversiÃ³n y puso \\nuna librerÃ\\xada que la atiende junto con su seÃ±ora. AsÃ\\xad dejo de viajar , luego cambiaron \\nde rubro y hoy tiene una granja.  Con respecto al accidente  lo afecto en lo personal \\nen cuanto a que abandonÃ³ el deporte, perdiÃ³ oportunidades laborales, lo habÃ\\xadan \\nllamado por un trabajo en Mendoza y por temor a volverse a lesionar no viajo y lo \\ndeshecho,  no  le  ocasionÃ³  problemas  con  su  seÃ±ora,  tampoco  con  sus  amigos  y \\ntampoco registro cambios de carÃ¡cter, aunque a veces reniega de la situaciÃ³n. Lo \\npone de mal humor los dolores, pero trata de sobrellevarlo. No realizÃ³ psicoterapia \\npor este hecho, la realizÃ³ en 1Â° o 2Â° porque lo mando el director del colegio por \\nhiperactividad  Le  trajo  problemas  para  dormir  al  principio  o  cuando  le  duele \\nmucho la pierna sobre todo los dÃ\\xadas de humedad .  \\n \\n-EXAMENES COMPLEMENTARIOS: PsicodiagnÃ³stico (los test estÃ¡n adjuntados \\nen autos) \\n\\n \\n\\n5 \\n \\n\\n \\n\\n\\x0c \\n\\n \\n\\n \\n\\n \\nIV-CONSIDERACIONES MEDICO-LEGALES:  \\nComenta  el  Sr  Boiero  que  mientras  se  dirigÃ\\xada  al  trabajo,  corre  para  no \\n \\nperder el tren pisando mal con su pie izquierdo por lo cual sufriÃ³ un esguince del \\n\\n6 \\n\\n\\x0ctobillo izquierdo. Fue asistido por la ART segÃºn sus referencias donde se le brindÃ³ \\ntratamiento kinÃ©sico para luego que le den el alta con tareas habituales. A pesar de \\nque el actor refiriÃ³ la persistencia de las dolencias. La demandada refiere que se \\naceptÃ³ el siniestro y se le brindo las prestaciones correspondientes hasta el alta. No \\nhay  documentaciÃ³n  medica  adjuntada  en  autos,  sobre  estudios  o  tratamientos \\nefectuados. Del examen mÃ©dico efectuado se constatÃ³ que el actor presenta dolor \\nque  manifestÃ³  con  maniobras  defensivas  y  disminuciÃ³n  a  la  movilidad  con \\nrespecto a su contralateral.  Se le solicitÃ³ una RMN donde se constatÃ³ que el actor \\npresenta un esguince del ligamento peroneo-astragalino anterior e injuria parcial \\ndel  ligamento  tibioperoneo  anterior. El  tobillo  es  una  articulaciÃ³n  que  juega  un \\npapel importante en la bipedestaciÃ³n y distribuciÃ³n del peso corporal; la alteraciÃ³n \\nen su biomecÃ¡nica causa dolor y predispone a lesiones recurrentes. Es importante \\nconocer su anatomÃ\\xada   para evaluar las estructuras involucradas y sus afecciones . \\nLa regiÃ³n anatÃ³mica del tobillo estÃ¡ formada por dos articulaciones, la articulaciÃ³n \\ntibioperoneo-astragalina (compuesta por el extremo distal de la tibia, el peronÃ© y \\nel astrÃ¡galo) y la subastragalina (trÃ³clea del astrÃ¡galo y calcÃ¡neo) unido por una \\nserie  de  ligamentos  que  lo  mantiene  estable  y  permite  la  realizaciÃ³n  de  los \\nmovimientos del tobillo: flexiÃ³n, extensiÃ³n, inversiÃ³n y eversiÃ³n . El diagnostico \\nque presentÃ³ y aun presenta es el de esguince en el ligamento peroneo-astragalino \\nanterior  y  el  ligamento  tibioperoneo  anterior.  El  ligamento  peroneo-astragalino \\nanterior  es  el  mÃ¡s  dÃ©bil,  se  identifica  como  una  banda  delgada  que  se  extiende \\ndesde el malÃ©olo lateral y se inserta en la regiÃ³n anterior del astrÃ¡galo  su funciÃ³n \\nes la de evitar el desplazamiento posterior del astrÃ¡galo. El ligamento tibioperoneo \\nanterior  se  ve  como  una    banda  corta,    y  contribuye  con  otros  a  mantener  la \\nsindesmosis. Cuando se produce un desplazamiento hacia adentro o hacia afuera \\ndel pie se produce una  distensiÃ³n excesiva del  tendÃ³n que segÃºn el grado de la \\nmisma va desde la elongaciÃ³n hasta la disrupciÃ³n de las fibras.  \\n\\nâ\\x80\\x9cGRADO  I  (desgarro  parcial  de  un  ligamento): \\nexiste  dolor,  cuya  intensidad  puede  ser  muy \\nvariable segÃºn los casos, y que suele aparecer tras \\nun periodo de menos dolor. La impotencia funcional \\nno existe o es mÃ\\xadnima y existe poca tumefacciÃ³n de \\nla zona. No hay inestabilidad articular. \\nGRADO II (desgarro incompleto de un ligamento \\ncon incapacidad funcional moderada): hay dolor a \\nla palpaciÃ³n sobre las estructuras lesionadas. Existe \\ntumefacciÃ³n precoz por el edema de partes blandas, \\ny  equimosis  en  las  primeras  24-48  horas.  La  impotencia  funcional  es  moderada.  Existe \\ninestabilidad articular que se pone de manifiesto con las maniobras de movilidad pasiva. \\nGRADO III (rotura completa y pÃ©rdida de integridad de un ligamento): la tumefacciÃ³n por \\nel edema y el hematoma local es inmediata tras el accidente. La equimosis es tambiÃ©n precoz. \\nEl  dolor  es  intenso  desde  el  principio,  con  percepciÃ³n  clara  de  la  gravedad por  parte  del \\n\\n7 \\n \\n\\n\\x0cpaciente. Existe impotencia funcional total, con imposibilidad para el apoyo. En ocasiones \\na esta fase inicial de dolor agudo e intenso puede seguir otra de analgesia debido a rotura \\nde haces nerviosos aferentes.â\\x80\\x9d1 \\nLa mayorÃ\\xada de los esguinces pueden ser tratados con Ã©xito en cuanto al dolor, con \\nla  inmovilizaciÃ³n  y  el  tratamiento  kinesiolÃ³gico  adecuado  el  cuadro  deberÃ\\xada \\nresolverse, pero si las fibras se encuentran desgarradas puede requerir tratamiento \\nquirÃºrgico a fin de reparar el tendÃ³n . De no evolucionar en forma  satisfactoria \\npermanecen sÃ\\xadntomas como hinchazÃ³n periarticular, dolor, rigidez del tobillo o la \\ninestabilidad  articular  ,  que  es  tanto  mayor  cuanto  menos  adecuado  ha  sido  el \\nperiodo y tipo de inmovilizaciÃ³n, y la posterior rehabilitaciÃ³n. El paciente percibe \\nuna  cierta  inestabilidad  e  inseguridad  del  tobillo  con  frecuentes  torceduras \\nposteriores. En base a lo expuesto surge que las lesiones del tobillo del Sr Boiero \\nno se han resuelto en su totalidad persistiendo aun las dificultades a la movilidad, \\nasÃ\\xad como los dolores. Surge de la RMN que las lesiones tendinosas aÃºn persisten \\nen  el  actor.  Esto  determina  que  el  actor    por  las  dificultades  en  el  movilidad \\npresenta  una  Incapacidad  Parcial  y  Permanente  del  6%  segÃºn  el  Baremo  Ley \\n24557. \\nPsicotrauma: \\nPero  ademÃ¡s  de  conocer  la  historia  del  sujeto,  se  deberÃ¡  prestar  atenciÃ³n  a  las \\nliteratura  reconoce  y  describe \\ncaracterÃ\\xadsticas  del  evento  traumÃ¡tico.  La \\ncaracterÃ\\xadsticas particulares para que el suceso tenga capacidad traumatizante. AsÃ\\xad \\npor ejemplo todo hecho ajeno a la experiencia cotidiana de quien lo padezca, el \\npeligro de muerte y el tipo de amenaza a la integridad condicionarÃ¡n la modalidad \\nde  la  respuesta.  Incluso  mÃ¡s  allÃ¡  de  las  caracterÃ\\xadsticas  de  la  personalidad.  Sin \\nembargo,  el  hecho  saliente  que  no  todo  excombatiente  o  sobreviviente  de \\ncatÃ¡strofes  padezca  de  trastornos  crÃ³nicos  obliga  a  ponderar  no  sÃ³lo  las \\ncaracterÃ\\xadsticas del accidente traumÃ¡tico sino tambiÃ©n la forma en que estos fueran \\nvivenciados. Se reconoce que la valencia negativa -  es decir el significado moral \\npeyorativo  que  se  atribuya  al  evento  o    sus  consecuencias,  el  comportamiento \\ndurante la producciÃ³n del mismo y la sensaciÃ³n de no poder controlar la marcha \\nde los hechos cuando estos ocurren, condicionarÃ¡n positivamente la manifestaciÃ³n \\nde la patologÃ\\xada. Y sobre estas condiciones jugarÃ¡ un rol trascendente la constituciÃ³n \\ny  la  historia  de  quien  padezca  el  trauma.  â\\x80\\x9cLa  relaciÃ³n  de  la  sicopatologÃ\\xada \\nfenomenolÃ³gica  con  la  semiologÃ\\xada  descriptiva  en  materia  de  reacciÃ³n  a  trauma \\nofrece  una  fÃ³rmula  de  integraciÃ³n.  La  misma  consiste  en  brindar  un  contexto \\ncomprensivo a la modalidad de respuesta clÃ\\xadnica desencadenada por un estÃ\\xadmulo \\ndeterminado, en una persona especifica. MÃ¡s allÃ¡ de la figura clÃ\\xadnica que adopte la \\nexpresiÃ³n  mÃ³rbida,  la  fenomenologÃ\\xada  permitirÃ¡  establecer  que  tipo  de  vivencia \\nsubyace  a  la  clÃ\\xadnica.  Entonces  cuando  un  sujeto  presente  Reacciones  Agudas  a \\n\\n1 Esguince de Tobillo .F. SÃ¡nchez Ruano E. PayÃ¡ Zaforteza Especialista en TraumatologÃ\\xada \\n \\n \\n\\n \\n\\n8 \\n\\n\\x0cEstrÃ©s, Trastornos por EstrÃ©s Agudo o Trastornos de AdaptaciÃ³n, que cumplan con \\nsu  curso  natural  y  luego  remitan,    desde  este  abordaje  se  considerarÃ¡  que  la \\nrespuesta adopta la forma de una reacciÃ³n primaria. Pero si la presentaciÃ³n asume \\nla forma de TEPT, ya sea de origen precoz o tardÃ\\xado, o a punto de partido de un \\nTrastorno por EstrÃ©s Agudo; la nociÃ³n a aplicar serÃ¡ la de desarrollo. â\\x80\\x9cModelo de \\nabordaje a niveles jerÃ¡rquicos progresivos de la figura del daÃ±o psÃ\\xadquicoâ\\x80\\x9d- Esteban \\nToro MartÃ\\xadnez \\nBinder fue quien analizÃ³ y expuso con acabada claridad conceptual esta particular \\nmanifestaciÃ³n  psicopatolÃ³gica.  Estudia asÃ\\xad  \"aquellos  trastornos que  se  producen \\ncuando  ciertas  vivencias  a  las  que  se  llaman  psicotraumÃ¡tico  provocan \\ndeterminadas  respuestas  psicolÃ³gicas  anormales\",  y  designa  como  vivencias \\npsicotraumÃ¡ticas  \"aquellas  que  sacuden  o  minan  el  equilibrio  anÃ\\xadmico  de  una \\npersona o que trastornan mÃ¡s o menos el balance interno previamente alterado. Se \\nproducen porque circunstancias del medio ambiente, que pasando por los Ã³rganos \\nde los sentidos entran en la psique, afectando a ciertas disposiciones sensibles de \\nla persona. De Ã©ste pueda ser controlada suficientemente por el aparato psÃ\\xadquico \\nglobal.\" \\n     â\\x80\\x9cEl  mismo  autor  distingue  en  estas  respuestas  anÃ\\xadmicas  a  las  vivencias \\ntraumÃ¡ticas, entre \"reacciones\" y \"desarrollos\". En tal sentido expresa Binder que \\ntrastorno \\n\"la  reacciÃ³n  psicolÃ³gicamente  anormal  es \\npsicotraumÃ¡tico agudo del equilibrio... cursa un breve tiempo (entre unas horas y \\nun par de meses) como manifestaciÃ³n aislada. Al cesar el efecto traumÃ¡tico de la \\nvivencia,  la  persona recupera  relativamente  pronto  el  dominio de  sus  funciones \\npsÃ\\xadquicas  y  la  reacciÃ³n  por  regla  general  cesa,  sin  dejar  tras  de  sÃ\\xad  alteraciones \\npermanentes de la psique\".  En cambio \"los desarrollos psÃ\\xadquicos anormales\" son \\nmucho  mÃ¡s  difÃ\\xadciles  de  superar,  toda  vez  que  bajo  la  incidencia  de  daÃ±os \\npsicotraumÃ¡tico crÃ³nicos o que se repiten continuamente se producen alteraciones \\ndesfavorables de la estructura de determinadas disposiciones psÃ\\xadquicas y con ello \\nrespuestas  anÃ³malas  de  larga  duraciÃ³n  (meses  o  aÃ±os)  y  la  consecuente \\ndesadaptaciÃ³n a la vida cotidiana. â\\x80\\x9cImportancia de la semiologÃ\\xada delictiva en la \\nperitaciÃ³n  psiquiatrita-forense  penalâ\\x80\\x9d  â\\x80\\x93  Dr.  Brunoy  Romi.  Si  analizamos  estos \\nhechos en el actor es menester  tener en claro que se trata de una alteraciÃ³n de la \\nhomeostasis  del  individuo  y  que  afecta  las  distintas  Ã¡reas  de  su  vida  como  la \\npersonal, la vida de relaciÃ³n, de pareja, su Ã¡mbito laboral, cambios de humor y de \\nÃ¡nimo. Estos hechos los  manifiesta con depresiones, inhibiciones, fobias, cambios \\nalimentarios, aislamiento, desgano. La menciÃ³n de sÃ\\xadntomas aislados no constituye \\npor si daÃ±o psÃ\\xadquico, es menester que como cualquier otra patologÃ\\xada constituya un \\nsÃ\\xadndrome coherente. En cuanto al actor hay que observar que las secuelas fÃ\\xadsicas, \\nasÃ\\xad como el accidente no ha afectado las distintas Ã¡reas como la personal, familiar \\no  de  pareja.  A  pesar  de  las  lesiones  el  actor  ha  logrado  continuar  con  su  vida \\nnormal, reinsertarse en el Ã¡mbito laboral y mantener relaciÃ³n con sus pares. Son \\nlas dificultades en la movilidad, asÃ\\xad como los dolores los hechos que lo aquejan y \\n\\nla  respuesta  a  un \\n\\n9 \\n \\n\\n\\x0cle dificultan compartir actividades deportivas con sus amigos. Estas dificultades \\naisladas que menciono como secuelas del accidente no constituyen por sÃ\\xad mismas \\nun daÃ±o psÃ\\xadquico, pero conforman lo que el Dr. Risso define como daÃ±o moral, que \\nel  mismo  lo  define  como  el  â\\x80\\x9csufrimiento  normal  â\\x80\\x9cde  una  afecciÃ³n  .    Las \\nobservaciones de esta perito coinciden con lo expuesto con el profesional que llevo \\na cabo el psicodiagnÃ³stico Por lo tanto se puede concluir que el actor no presenta \\nincapacidad por secuelas psicolÃ³gicas. \\n \\nVII-CONCLUSIONES. \\n \\n1. \\nLas secuelas en el tobillo izquierdo que presenta el actor es consecuencia \\ndel accidente que padeciÃ³. El tratamiento que se le efectuÃ³ segÃºn las referencias \\ndel  actor  fueron  las  adecuadas  en  cuanto  a  la  inmovilizaciÃ³n  y  al  tratamiento \\nkinesiolÃ³gico,  sin  embargo,  no  se  obtuvo  el  resultado  satisfactorio.  PodrÃ\\xada \\ncorresponder  a  una  inmovilizaciÃ³n  no  adecuada  o  a  un  tratamiento  kinÃ©sico \\nincompleto. \\n2. \\nEstas conclusiones son en base al hecho que aun persiste  las dificultades \\npara la movilidad, los dolores, son consecuencia que persiste el esguince como se \\nobserva en la RMN solicitada . \\n3. \\ntendones y los mÃºsculos para mejorar la movilidad. \\n4. \\nde la misma articulaciÃ³n, agravando aÃºn mÃ¡s el cuadro. \\n5. \\nCon  respecto  al  daÃ±o  psicolÃ³gico,  ya  se  ha  expresado  que  no  se  ha \\nconstatado que los sÃ\\xadntomas que refiriÃ³ el actor no afectaron las diferentes esferas \\nde su vida, no ha alterado la personal, familiar, de pareja. Se ah reinsertado en el \\nÃ¡mbito laboral sin dificultades. Lo observado por esta perito es coincidente con lo \\nobservado por el profesional que ha llevado a cabo el psicodiagnÃ³stico. \\n6. \\nLas  dolencias  y  dificultades  para  la  movilidad  que  presenta  el  actor \\ndetermina  que  presente  dificultades  intermedias  para  la  realizaciÃ³n  de  tareas \\nhabituales, en vista que le genera dificultades para deambular, y estar de pie por \\ntiempo  prolongado.  No  se  considera  que  requiera  recalificaciÃ³n  en  vista  que \\ndesarrolla tareas laborales por su cuenta.  \\n7. \\nQue a los efectos fiscales denuncio mi CUIT N.Âº: 27-16523394-3 y me hallo \\ninscripta como RESPONSABLE INSCRIPTA por lo que al momento del depÃ³sito \\nde honorarios se CONSIDERE EL DEPOSITO DEL I.V.A  \\n \\n\\nLa articulaciÃ³n es factible que por la inestabilidad el actor sufra otra lesion \\n\\nEl  actor  deberÃ\\xada  completar  tratamiento  kinÃ©sico  a  fin  de  fortificar  los \\n\\n10 \\n\\n\\x0c \\n\\n \\nVII-INCAPACIDAD: el actor por las lesiones sufridas presenta una incapacidad \\nparcial y permanente del 6%  segÃºn el baremo  mencionado. \\nFactores de ponderaciÃ³n: \\nAmerita recalificaciÃ³n: no \\nDificultad para tareas habituales: Intermedia 15% = 0,9 % \\nEdad: 2% = 0,12%  \\n \\nIncapacidad Parcial y Permanente del 7,02% segÃºn el Baremo Ley 24557 \\n \\nVIII CONTESTACION DE LOS PUNTOS DE PERICIA: \\nVIII-1-De la parte actora    \\n1. Ya fue contestado en el informe pericial. \\n2. Ya fue contestado en el informe pericial \\n3. Ya fue contestado en el informe pericial \\n4. Ya fue contestado en el informe pericial. \\n5. Ya fue contestado en el informe pericial \\n6. Ya fue contestado en el informe pericial \\n\\n11 \\n \\n\\n\\x0c7. Ya fue contestado en el informe pericial. \\n8. Ya fue contestado en el informe pericial. \\n9. Ya fue contestado en el informe pericial. \\n10. Ya fue contestado en el informe pericial. \\nPsicolÃ³gicos  \\n1. Ya fue contestado en el informe pericial. \\n2. Ya fue contestado en el informe pericial \\n3. Ya fue contestado en el informe pericial \\n4. Ya fue contestado en el informe pericial. \\n5. Ya fue contestado en el informe pericial. \\n6. Ya fue contestado en el informe pericial. \\n7. Ya fue contestado en el informe pericial. \\n8. Ya fue contestado en el informe pericial. \\nVIII-1-De la parte demandada    \\n1. Ya fue contestado en el informe pericial  \\n2. Ya fue contestado en el presente informe \\n3. Ya fue contestado en el informe pericial \\n4. Ya fue contestado en el informe pericial \\n5. Ya fue contestado en el informe pericial \\n6. Ya fue contestado en el informe pericial  \\n7. Ya fue contestado en el informe pericial. \\n8. Ya fue contestado en el informe pericial. \\n \\nIX-PETITORIO: \\n\\nHabiendo  finalizado  el  trabajo  encomendado,  respetuosamente  solicito  que \\n\\nDe por cumplida mi tarea pericial en legal tiempo y forma. \\nOrdene  agregar  el  presente  informe  en  autos    y  se  elevarÃ¡  la  copia \\n\\nOportunamente regule los honorarios correspondientes teniendo en cuenta \\n\\nV.S.: \\nâ\\x88\\x92 \\nâ\\x88\\x92 \\ndigitalizada al sistema a fin de darle traslado a las partes. \\nâ\\x88\\x92 \\nla calidad, tipo y extensiÃ³n del trabajo realizado. \\nâ\\x88\\x92 \\nforma digitalizada. \\n\\n \\n\\n \\n\\nEs todo cuanto puedo informar a V.S. \\nA QuiÃ©n Dios Guarde \\n \\n \\n\\nSe adjuntan las copias para traslado a travÃ©s del sistema informÃ¡tico en \\n\\n \\n\\n \\n  \\n\\n12 \\n\\n\\x0c'"
      ]
     },
     "execution_count": 3,
     "metadata": {},
     "output_type": "execute_result"
    }
   ],
   "source": [
    "datos_text.loc[0]"
   ]
  },
  {
   "cell_type": "code",
   "execution_count": 12,
   "metadata": {},
   "outputs": [
    {
     "name": "stdout",
     "output_type": "stream",
     "text": [
      "0        \\n\\nInforma a continuación: \\n\\nJ.T. 13 \\nPER...\n",
      "1        \\n\\nJUZG. 40 \\n\\nPERITO MEDICO PRESENTA INFOR...\n",
      "2       Expediente Nº CNT 74803/2014 \\n \\nJUZGADO NACI...\n",
      "3       JUZGADO NACIONAL DE TRABAJO 59       LAVALLE 1...\n",
      "4        \\n\\n \\n\\nPERITO PRESENTA INFORME \\n\\n \\n\\n \\n...\n",
      "                              ...                        \n",
      "3801    1 \\n \\n\\n21-3-2018 \\nTRABAJO Nº  72 \\nPRESENTO...\n",
      "3802     \\n\\n \\n\\nJNT  Nº  75  –  PARANA  520  –  10  ...\n",
      "3803     \\n\\nII.- HISTORIA CLINICA \\n\\n) se dirige a V...\n",
      "3804    PERITO PSICÓLOGO INFORMA SEGUNDA INCOMPARECENC...\n",
      "3805    Juzgado Nacional del Trabajo N°: 27 \\n\\nTte. G...\n",
      "Name: text, Length: 3806, dtype: object\n"
     ]
    }
   ],
   "source": [
    "import pandas as pd\n",
    "import numpy as np\n",
    "\n",
    "df = pd.read_csv('pericias_medicas.csv', sep=',',  encoding='utf-8')\n",
    "#convierte en string los datos de la columna text\n",
    "df = df['text'].apply(str)\n",
    "\n",
    "print(df)"
   ]
  },
  {
   "cell_type": "code",
   "execution_count": 13,
   "metadata": {},
   "outputs": [
    {
     "name": "stdout",
     "output_type": "stream",
     "text": [
      "                                                   text\n",
      "0        informa a continuacion    j t    perito med...\n",
      "1        juzg     perito medico presenta informe med...\n",
      "2     expediente no cnt      juzgado nacional de  in...\n",
      "3     juzgado nacional de trabajo        lavalle    ...\n",
      "4           perito presenta informe                 ...\n",
      "...                                                 ...\n",
      "3801           trabajo no    presento pericia medica...\n",
      "3802        jnt  no      parana        o  piso    to...\n",
      "3803     ii   historia clinica     se dirige a v s y...\n",
      "3804  perito psicologo informa segunda incomparecenc...\n",
      "3805  juzgado nacional del trabajo n     tte  gral p...\n",
      "\n",
      "[3806 rows x 1 columns]\n"
     ]
    }
   ],
   "source": [
    "\n",
    "\n",
    "#Limpieza de texto\n",
    "import re, string, unicodedata\n",
    "#se hace la eliminacion de texto entre corchetes, acentos, signos de puntuacion, palabras con numeros, coloca el texto en minuscula.\n",
    "def limpiarTexto(text):\n",
    "    text = text.lower()\n",
    "    text = re.sub('\\[.*?¿\\]\\%', ' ', text)\n",
    "    text = re.sub('[%s]' % re.escape(string.punctuation), ' ', text)\n",
    "    text = re.sub('\\w*\\d\\w*', '', text)\n",
    "    text = re.sub('[‘’“”…«»]', '', text)\n",
    "    text = re.sub('\\n', ' ', text)\n",
    "    text = re.sub('\\r', ' ', text)\n",
    "    text = str(unicodedata.normalize('NFKD', text).encode('ascii','ignore'))[2:-1]\n",
    "    return text\n",
    "\n",
    "round = lambda x: limpiarTexto(x)\n",
    "df = pd.DataFrame(df.apply(round))\n",
    "print(df)"
   ]
  },
  {
   "cell_type": "code",
   "execution_count": 17,
   "metadata": {},
   "outputs": [
    {
     "name": "stdout",
     "output_type": "stream",
     "text": [
      "0       [informa, continuacion, j, t, perito, medico, ...\n",
      "1       [juzg, perito, medico, presenta, informe, medi...\n",
      "2       [expediente, cnt, juzgado, nacional, instancia...\n",
      "3       [juzgado, nacional, trabajo, lavalle, perito, ...\n",
      "4       [perito, presenta, informe, datos, personales,...\n",
      "                              ...                        \n",
      "3801    [trabajo, presento, pericia, medica, adjunto, ...\n",
      "3802    [jnt, parana, piso, tovar, juan, domingo, c, m...\n",
      "3803    [ii, historia, clinica, dirige, v, s, respetuo...\n",
      "3804    [perito, psicologo, informa, segunda, incompar...\n",
      "3805    [juzgado, nacional, trabajo, n, tte, gral, per...\n",
      "Name: text, Length: 3806, dtype: object\n"
     ]
    }
   ],
   "source": [
    "#Texto tokenizado\n",
    "import re\n",
    "import nltk\n",
    "\n",
    "stops = nltk.corpus.stopwords.words('spanish')\n",
    "\n",
    "#elimino stopwords\n",
    "def remove_stops(texto: str) -> str:\n",
    "    \"\"\"\n",
    "    Función que elimina stopwords\n",
    "    Params:\n",
    "        **texto**:texto a ser limpiado de stopwords\n",
    "\n",
    "    \"\"\"\n",
    "    texto = [\n",
    "        i for i in texto.split() if i not in stops\n",
    "    ]\n",
    "    return texto\n",
    "\n",
    "df['text'] = df['text'].apply(str)\n",
    "df1 = df['text'].apply(remove_stops)\n",
    "print(df1)"
   ]
  },
  {
   "cell_type": "code",
   "execution_count": 40,
   "metadata": {},
   "outputs": [
    {
     "name": "stdout",
     "output_type": "stream",
     "text": [
      "['informa', 'continuacion', 'j', 't', 'perito', 'medico', 'presenta', 'informe', 'pericial', 'autos', 'boiero', 'franco', 'ivan', 'c', 'swiss', 'medical', 'art', 's', 's', 'accidente', 'ley', 'especial', 'expediente', 'n', 'i', 'proemio', 'sr', 'juez', 'nacional', 'hortas', 'maria', 'andrea', 's', 'perito', 'medico', 'oficio', 'siguientes', 'autos', 'domicilio', 'constituido', 'calle', 'austria', 'piso', 'dpto', 'capital', 'z', 'tel', 'domicilio', 'electronico', 'mashortas', 'hotmail', 'com', 'cumplimiento', 'dispuesto', 'v', 's', 'referente', 'presentes', 'autos', 'despues', 'haber', 'examinado', 'dijo', 'ser', 'boiero', 'franco', 'ivan', 'tomaron', 'momento', 'examen', 'clinico', 'actual', 'consideraron', 'capacidad', 'generica', 'particular', 'puntos', 'pericia', 'solicitados', 'partes', 'v', 's', 'ii', 'antecedentes', 'interes', 'medico', 'legal', 'foja', 'inicia', 'demanda', 'foja', 'vta', 'hechos', 'accidente', 'in', 'itinere', 'refiere', 'setiembre', 'siendo', 'encontraba', 'camino', 'trabajo', 'cruzar', 'calle', 'piso', 'piedra', 'pie', 'izquierdo', 'queda', 'trabado', 'girando', 'cuerpo', 'sufriendo', 'entorsis', 'tobillo', 'izquierdo', 'asi', 'consecuencia', 'fuerte', 'dolor', 'da', 'aviso', 'empleador', 'realiza', 'correspondiente', 'denuncia', 'art', 'realizan', 'estudios', 'radiograficos', 'indican', 'reposo', 'kinesiologia', 'otorgandole', 'alta', 'medica', 'incapacidad', 'cabe', 'destacar', 'previo', 'accidente', 'nunca', 'presento', 'sintomatologia', 'tampoco', 'ingresos', 'art', 'dolencias', 'zona', 'denunciada', 'jamas', 'realizo', 'examen', 'preocupacional', 'periodico', 'sostiene', 'presenta', 'incapacidad', 'foja', 'vta', 'refiere', 'accidente', 'tambien', 'determino', 'dano', 'psiquico', 'actor', 'foja', 'puntos', 'pericia', 'medica', 'foja', 'vta', 'puntos', 'pericia', 'psicologica', 'foja', 'contesta', 'demandada', 'foja', 'niega', 'cada', 'hechos', 'foja', 'hechos', 'siniestro', 'laboral', 'denunciado', 'demandado', 'respecto', 'accidente', 'ocurrido', 'denunciado', 'swiss', 'medical', 'bajo', 'siniestro', 'aceptado', 'demandado', 'brindo', 'prestaciones', 'correspondientes', 'especie', 'manteniendo', 'atencion', 'dado', 'alta', 'incapacidad', 'foja', 'puntos', 'pericia', 'medica', 'psicologica', '\\\\x0ciii', 'examen', 'fisico', 'actor', 'iii', 'prosografia', 'presenta', 'examen', 'persona', 'sexo', 'masculino', 'deambula', 'propios', 'medios', 'ayuda', 'terceros', 'protesis', 'alguna', 'color', 'piel', 'blanca', 'cabello', 'castano', 'corto', 'pronuncia', 'correctamente', 'palabras', 'aspecto', 'bueno', 'colaborador', 'presentacion', 'correcta', 'adecuada', 'comportamiento', 'acorde', 'entorno', 'ocasion', 'concurre', 'acompanantes', 'presente', 'examen', 'medico', 'solicitud', 'estudios', 'realizo', 'marzo', 'refiere', 'hechos', 'si', 'mismo', 'iii', 'motivo', 'evaluacion', 'limitacion', 'movilidad', 'tobillo', 'izquierdo', 'depresion', 'iii', 'datos', 'personales', 'examinado', 'concurre', 'solo', 'examen', 'proporciona', 'si', 'misma', 'datos', 'asentados', 'informe', 'identifica', 'dni', 'declara', 'haber', 'nacido', 'mayo', 'anos', 'nacionalidad', 'argentina', 'estudios', 'terciarios', 'completos', 'seguridad', 'higiene', 'ocupacion', 'comerciante', 'domiciliado', 'calle', 'robert', 'kennedy', 'localidad', 'villa', 'mayo', 'pcia', 'bs', 'as', 'soltero', 'vive', 'pareja', 'hija', 'meses', 'refiere', 'alergias', 'medicamentosas', 'refiere', 'antecedentes', 'quirurgicos', 'apendicectomia', 'varicocele', 'recibe', 'tratamiento', 'medicamentoso', 'zurdo', 'actividad', 'diaria', 'fuma', 'cigarrillos', 'dia', 'consume', 'alcohol', 'practicaba', 'futbol', 'dejo', 'iii', 'relato', 'hechos', 'siguiente', 'item', 'corresponde', 'relato', 'hechos', 'segun', 'efectuado', 'actor', 'presente', 'entrevista', 'refiere', 'agosto', 'yendo', 'trabajar', 'aspro', 'delta', 'compresiones', 'viaje', 'primero', 'tren', 'luego', 'tomaba', 'colectivo', 'estacion', 'belgrano', 'norte', 'comenta', 'misma', 'arreglando', 'correr', 'piso', 'mal', 'piedra', 'doblo', 'tobillo', 'quedo', 'inmovilizado', 'dio', 'aviso', 'empleador', 'departamento', 'seguridad', 'higiene', 'trabajando', 'agencia', '\\\\x0cempresa', 'envio', 'art', 'derivaron', 'villa', 'lynch', 'clinica', 'swiss', 'medical', 'llegar', 'pie', 'edematizado', 'pesar', 'ello', 'hicieron', 'recorrer', 'haciendo', 'tramites', 'debio', 'hacer', 'saltando', 'pie', 'tenia', 'trasladarse', 'dieron', 'luego', 'silla', 'rueda', 'examinaron', 'diagnosticaron', 'esguince', 'mandaron', 'casa', 'analgesicos', 'nunca', 'inmovilizaron', 'muletas', 'consiguieron', 'dias', 'despues', 'nunca', 'otorgaron', 'traslado', 'kinesiologia', 'otorgaron', 'vez', 'dia', 'casi', 'mes', 'dias', 'poder', 'apoyar', 'pie', 'iba', 'saltando', 'pie', 'sano', 'primeros', 'dias', 'casi', 'podia', 'tocarse', 'pusieron', 'magnetoterapia', 'dieron', 'min', 'ejercicios', 'apoyo', 'dias', 'dieron', 'apto', 'seguia', 'dolores', 'otorgaron', 'sesiones', 'mas', 'continuaba', 'mismos', 'ejercicios', 'comenzo', 'apoyo', 'pisaba', 'mal', 'resintio', 'rodilla', 'pie', 'seguia', 'edematizado', 'podia', 'caminar', 'otorgaron', 'sesiones', 'mas', 'alta', 'firmo', 'disconformidad', 'reincorporo', 'echaron', 'tareas', 'realizaba', 'montaje', 'compresores', 'gas', 'actividad', 'realizaba', 'parado', 'trepado', 'iii', 'semiologia', 'afecciones', 'general', 'examinado', 'presenta', 'buen', 'general', 'actitud', 'activa', 'indiferente', 'aprecian', 'posturas', 'patologicas', 'marcha', 'normal', 'fases', 'impulso', 'apoyo', 'balanceo', 'presenta', 'dificultades', 'marcha', 'punta', 'pie', 'talon', 'presenta', 'cicatrices', 'region', 'cuestion', 'pesa', 'kg', 'mide', 'determina', 'imc', 'correspondiente', 'categoria', 'sobrepeso', 'tobillo', 'anamnesis', 'refiere', 'persisten', 'dolores', 'tobillo', 'puede', 'jugar', 'mas', 'futbol', 'empieza', 'doler', 'maleolo', 'externo', 'tiron', 'rodilla', 'si', 'permanece', 'pie', 'tiempo', 'prolongado', 'pie', 'comienza', 'edematizarse', 'sucede', 'mismo', 'camina', 'examen', 'fisico', 'momento', 'examen', 'constataron', 'edemas', 'palpacion', 'presento', 'dolor', 'maniobras', 'defensivas', 'region', 'retromaleolar', 'externo', 'diametro', 'bimaleolar', 'derecho', 'cm', 'izquierdo', 'cm', 'constato', 'movilidad', 'activa', 'pasiva', 'siendo', 'misma', 'mesurada', 'goniometro', 'volcada', 'presente', 'informe', 'flexion', 'dorsal', 'flexion', 'plantar', 'inversion', 'eversion', 't', 'derecho', 't', 'izq', '\\\\x0c', 'examenes', 'complementarios', 'rmn', 'tobillo', 'izquierdo', 'psicoentrevista', 'actor', 'realiza', 'relato', 'hechos', 'preciso', 'coherente', 'signos', 'fabulacion', 'lenguaje', 'escaso', 'parco', 'relato', 'acorde', 'nivel', 'cultural', 'presento', 'entrevistas', 'periciales', 'buen', 'prolijidad', 'ropas', 'modales', 'ofrecio', 'obstaculos', 'referencias', 'colaboro', 'interrogatorio', 'examen', 'fisico', 'pruebas', 'sometido', 'dialogo', 'sencillo', 'acorde', 'nivel', 'educativo', 'mantiene', 'actitud', 'atenta', 'cordial', 'dialogo', 'correlacion', 'pensamiento', 'diccion', 'mantuvo', 'orientado', 'tiempo', 'espacio', 'presenta', 'alteraciones', 'juicio', 'pensamiento', 'presenta', 'alteraciones', 'memoria', 'antecedentes', 'familiares', 'personales', 'traumatismo', 'craneo', 'tumores', 'sistema', 'nervioso', 'central', 'grupo', 'familiar', 'origen', 'constituido', 'padre', 'vivo', 'sana', 'trabaja', 'maestro', 'mayor', 'obra', 'madre', 'viva', 'sana', 'ama', 'casa', 'hermanos', 'comenta', 'nacio', 'localidad', 'malvinas', 'argentinas', 'describe', 'infancia', 'buena', 'familia', 'unida', 'padres', 'estan', 'juntos', 'estudios', 'primarios', 'curso', 'escuela', 'jean', 'piaget', 'aun', 'conserva', 'amigos', 'practicaba', 'handball', 'respecto', 'adolescencia', 'comenta', 'estudios', 'efectuo', 'colegio', 'teresita', 'liseaux', 'contacto', 'aun', 'amigos', 'continuaba', 'jugando', 'futbol', 'handball', 'fines', 'semana', 'salia', 'amigos', 'ir', 'bailar', 'gustaba', 'estudiar', 'musica', 'padre', 'musico', 'toca', 'guitarra', 'piano', 'hoy', 'dia', 'casa', 'padres', 'sala', 'ensayo', 'finalizo', 'secundario', 'comenzo', 'trabajar', 'padre', 'siemens', 'comenzo', 'uba', 'estudiar', 'diseno', 'grafico', 'hizo', 'cbc', 'luego', 'dejo', 'dedico', 'trabajar', 'inicio', 'luego', 'utn', 'tecnicatura', 'seguridad', 'higiene', 'tiempo', 'libre', 'familia', 'amigos', 'senora', 'conocio', 'amigos', 'trabaja', 'comercio', 'despues', 'dejo', 'trabajar', 'aspro', 'realizo', 'diferentes', 'tareas', 'comenzo', 'empresa', 'montaje', 'equipos', 'diagnostico', 'imagenes', 'cerca', 'meses', 'luego', '\\\\x0ccuestiones', 'formales', 'luego', 'empezo', 'trabajar', 'empresa', 'similar', 'sede', 'cordoba', 'septiembre', 'realizo', 'inversion', 'puso', 'libreria', 'atiende', 'junto', 'senora', 'asi', 'dejo', 'viajar', 'luego', 'cambiaron', 'rubro', 'hoy', 'granja', 'respecto', 'accidente', 'afecto', 'personal', 'cuanto', 'abandono', 'deporte', 'perdio', 'oportunidades', 'laborales', 'habian', 'llamado', 'trabajo', 'mendoza', 'temor', 'volverse', 'lesionar', 'viajo', 'deshecho', 'ocasiono', 'problemas', 'senora', 'tampoco', 'amigos', 'tampoco', 'registro', 'cambios', 'caracter', 'aunque', 'veces', 'reniega', 'situacion', 'pone', 'mal', 'humor', 'dolores', 'trata', 'sobrellevarlo', 'realizo', 'psicoterapia', 'hecho', 'realizo', 'mando', 'director', 'colegio', 'hiperactividad', 'trajo', 'problemas', 'dormir', 'principio', 'duele', 'pierna', 'dias', 'humedad', 'examenes', 'complementarios', 'psicodiagnostico', 'test', 'estan', 'adjuntados', 'autos', '\\\\x0c', 'iv', 'consideraciones', 'medico', 'legales', 'comenta', 'sr', 'boiero', 'mientras', 'dirigia', 'trabajo', 'corre', 'perder', 'tren', 'pisando', 'mal', 'pie', 'izquierdo', 'sufrio', 'esguince', '\\\\x0ctobillo', 'izquierdo', 'asistido', 'art', 'segun', 'referencias', 'brindo', 'tratamiento', 'kinesico', 'luego', 'den', 'alta', 'tareas', 'habituales', 'pesar', 'actor', 'refirio', 'persistencia', 'dolencias', 'demandada', 'refiere', 'acepto', 'siniestro', 'brindo', 'prestaciones', 'correspondientes', 'alta', 'documentacion', 'medica', 'adjuntada', 'autos', 'estudios', 'tratamientos', 'efectuados', 'examen', 'medico', 'efectuado', 'constato', 'actor', 'presenta', 'dolor', 'manifesto', 'maniobras', 'defensivas', 'disminucion', 'movilidad', 'respecto', 'contralateral', 'solicito', 'rmn', 'constato', 'actor', 'presenta', 'esguince', 'ligamento', 'peroneo', 'astragalino', 'anterior', 'injuria', 'parcial', 'ligamento', 'tibioperoneo', 'anterior', 'tobillo', 'articulacion', 'juega', 'papel', 'importante', 'bipedestacion', 'distribucion', 'peso', 'corporal', 'alteracion', 'biomecanica', 'causa', 'dolor', 'predispone', 'lesiones', 'recurrentes', 'importante', 'conocer', 'anatomia', 'evaluar', 'estructuras', 'involucradas', 'afecciones', 'region', 'anatomica', 'tobillo', 'formada', 'dos', 'articulaciones', 'articulacion', 'tibioperoneo', 'astragalina', 'compuesta', 'extremo', 'distal', 'tibia', 'perone', 'astragalo', 'subastragalina', 'troclea', 'astragalo', 'calcaneo', 'unido', 'serie', 'ligamentos', 'mantiene', 'estable', 'permite', 'realizacion', 'movimientos', 'tobillo', 'flexion', 'extension', 'inversion', 'eversion', 'diagnostico', 'presento', 'aun', 'presenta', 'esguince', 'ligamento', 'peroneo', 'astragalino', 'anterior', 'ligamento', 'tibioperoneo', 'anterior', 'ligamento', 'peroneo', 'astragalino', 'anterior', 'mas', 'debil', 'identifica', 'banda', 'delgada', 'extiende', 'maleolo', 'lateral', 'inserta', 'region', 'anterior', 'astragalo', 'funcion', 'evitar', 'desplazamiento', 'posterior', 'astragalo', 'ligamento', 'tibioperoneo', 'anterior', 've', 'banda', 'corta', 'contribuye', 'mantener', 'sindesmosis', 'produce', 'desplazamiento', 'hacia', 'adentro', 'hacia', 'afuera', 'pie', 'produce', 'distension', 'excesiva', 'tendon', 'segun', 'grado', 'misma', 'va', 'elongacion', 'disrupcion', 'fibras', 'grado', 'i', 'desgarro', 'parcial', 'ligamento', 'existe', 'dolor', 'cuya', 'intensidad', 'puede', 'ser', 'variable', 'segun', 'casos', 'suele', 'aparecer', 'tras', 'periodo', 'menos', 'dolor', 'impotencia', 'funcional', 'existe', 'minima', 'existe', 'poca', 'tumefaccion', 'zona', 'inestabilidad', 'articular', 'grado', 'ii', 'desgarro', 'incompleto', 'ligamento', 'incapacidad', 'funcional', 'moderada', 'dolor', 'palpacion', 'estructuras', 'lesionadas', 'existe', 'tumefaccion', 'precoz', 'edema', 'partes', 'blandas', 'equimosis', 'primeras', 'horas', 'impotencia', 'funcional', 'moderada', 'existe', 'inestabilidad', 'articular', 'pone', 'manifiesto', 'maniobras', 'movilidad', 'pasiva', 'grado', 'iii', 'rotura', 'completa', 'perdida', 'integridad', 'ligamento', 'tumefaccion', 'edema', 'hematoma', 'local', 'inmediata', 'tras', 'accidente', 'equimosis', 'tambien', 'precoz', 'dolor', 'intenso', 'principio', 'percepcion', 'clara', 'gravedad', 'parte', '\\\\x0cpaciente', 'existe', 'impotencia', 'funcional', 'total', 'imposibilidad', 'apoyo', 'ocasiones', 'fase', 'inicial', 'dolor', 'agudo', 'intenso', 'puede', 'seguir', 'analgesia', 'debido', 'rotura', 'haces', 'nerviosos', 'aferentes', 'mayoria', 'esguinces', 'pueden', 'ser', 'tratados', 'exito', 'cuanto', 'dolor', 'inmovilizacion', 'tratamiento', 'kinesiologico', 'adecuado', 'cuadro', 'deberia', 'resolverse', 'si', 'fibras', 'encuentran', 'desgarradas', 'puede', 'requerir', 'tratamiento', 'quirurgico', 'fin', 'reparar', 'tendon', 'evolucionar', 'forma', 'satisfactoria', 'permanecen', 'sintomas', 'hinchazon', 'periarticular', 'dolor', 'rigidez', 'tobillo', 'inestabilidad', 'articular', 'mayor', 'cuanto', 'menos', 'adecuado', 'sido', 'periodo', 'tipo', 'inmovilizacion', 'posterior', 'rehabilitacion', 'paciente', 'percibe', 'cierta', 'inestabilidad', 'inseguridad', 'tobillo', 'frecuentes', 'torceduras', 'posteriores', 'base', 'expuesto', 'surge', 'lesiones', 'tobillo', 'sr', 'boiero', 'resuelto', 'totalidad', 'persistiendo', 'aun', 'dificultades', 'movilidad', 'asi', 'dolores', 'surge', 'rmn', 'lesiones', 'tendinosas', 'aun', 'persisten', 'actor', 'determina', 'actor', 'dificultades', 'movilidad', 'presenta', 'incapacidad', 'parcial', 'permanente', 'segun', 'baremo', 'ley', 'psicotrauma', 'ademas', 'conocer', 'historia', 'sujeto', 'debera', 'prestar', 'atencion', 'literatura', 'reconoce', 'describe', 'caracteristicas', 'evento', 'traumatico', 'caracteristicas', 'particulares', 'suceso', 'capacidad', 'traumatizante', 'asi', 'ejemplo', 'hecho', 'ajeno', 'experiencia', 'cotidiana', 'padezca', 'peligro', 'muerte', 'tipo', 'amenaza', 'integridad', 'condicionaran', 'modalidad', 'respuesta', 'incluso', 'mas', 'alla', 'caracteristicas', 'personalidad', 'embargo', 'hecho', 'saliente', 'excombatiente', 'sobreviviente', 'catastrofes', 'padezca', 'trastornos', 'cronicos', 'obliga', 'ponderar', 'solo', 'caracteristicas', 'accidente', 'traumatico', 'sino', 'tambien', 'forma', 'vivenciados', 'reconoce', 'valencia', 'negativa', 'decir', 'significado', 'moral', 'peyorativo', 'atribuya', 'evento', 'consecuencias', 'comportamiento', 'produccion', 'mismo', 'sensacion', 'poder', 'controlar', 'marcha', 'hechos', 'ocurren', 'condicionaran', 'positivamente', 'manifestacion', 'patologia', 'condiciones', 'jugara', 'rol', 'trascendente', 'constitucion', 'historia', 'padezca', 'trauma', 'relacion', 'sicopatologia', 'fenomenologica', 'semiologia', 'descriptiva', 'materia', 'reaccion', 'trauma', 'ofrece', 'formula', 'integracion', 'misma', 'consiste', 'brindar', 'contexto', 'comprensivo', 'modalidad', 'respuesta', 'clinica', 'desencadenada', 'estimulo', 'determinado', 'persona', 'especifica', 'mas', 'alla', 'figura', 'clinica', 'adopte', 'expresion', 'morbida', 'fenomenologia', 'permitira', 'establecer', 'tipo', 'vivencia', 'subyace', 'clinica', 'entonces', 'sujeto', 'presente', 'reacciones', 'agudas', 'esguince', 'tobillo', 'f', 'sanchez', 'ruano', 'paya', 'zaforteza', 'especialista', 'traumatologia', '\\\\x0cestres', 'trastornos', 'estres', 'agudo', 'trastornos', 'adaptacion', 'cumplan', 'curso', 'natural', 'luego', 'remitan', 'abordaje', 'considerara', 'respuesta', 'adopta', 'forma', 'reaccion', 'primaria', 'si', 'presentacion', 'asume', 'forma', 'tept', 'origen', 'precoz', 'tardio', 'punto', 'partido', 'trastorno', 'estres', 'agudo', 'nocion', 'aplicar', 'sera', 'desarrollo', 'modelo', 'abordaje', 'niveles', 'jerarquicos', 'progresivos', 'figura', 'dano', 'psiquico', 'esteban', 'toro', 'martinez', 'binder', 'analizo', 'expuso', 'acabada', 'claridad', 'conceptual', 'particular', 'manifestacion', 'psicopatologica', 'estudia', 'asi', 'aquellos', 'trastornos', 'producen', 'ciertas', 'vivencias', 'llaman', 'psicotraumatico', 'provocan', 'determinadas', 'respuestas', 'psicologicas', 'anormales', 'designa', 'vivencias', 'psicotraumaticas', 'aquellas', 'sacuden', 'minan', 'equilibrio', 'animico', 'persona', 'trastornan', 'mas', 'menos', 'balance', 'interno', 'previamente', 'alterado', 'producen', 'circunstancias', 'medio', 'ambiente', 'pasando', 'organos', 'entran', 'psique', 'afectando', 'ciertas', 'disposiciones', 'sensibles', 'persona', 'pueda', 'ser', 'controlada', 'suficientemente', 'aparato', 'psiquico', 'global', 'mismo', 'autor', 'distingue', 'respuestas', 'animicas', 'vivencias', 'traumaticas', 'reacciones', 'desarrollos', 'tal', 'expresa', 'binder', 'trastorno', 'reaccion', 'psicologicamente', 'anormal', 'psicotraumatico', 'agudo', 'equilibrio', 'cursa', 'breve', 'tiempo', 'unas', 'horas', 'par', 'meses', 'manifestacion', 'aislada', 'cesar', 'efecto', 'traumatico', 'vivencia', 'persona', 'recupera', 'relativamente', 'pronto', 'dominio', 'funciones', 'psiquicas', 'reaccion', 'regla', 'general', 'cesa', 'dejar', 'tras', 'si', 'alteraciones', 'permanentes', 'psique', 'cambio', 'desarrollos', 'psiquicos', 'anormales', 'mas', 'dificiles', 'superar', 'toda', 'vez', 'bajo', 'incidencia', 'danos', 'psicotraumatico', 'cronicos', 'repiten', 'continuamente', 'producen', 'alteraciones', 'desfavorables', 'estructura', 'determinadas', 'disposiciones', 'psiquicas', 'ello', 'respuestas', 'anomalas', 'larga', 'duracion', 'meses', 'anos', 'consecuente', 'desadaptacion', 'vida', 'cotidiana', 'importancia', 'semiologia', 'delictiva', 'peritacion', 'psiquiatrita', 'forense', 'penal', 'dr', 'brunoy', 'romi', 'si', 'analizamos', 'hechos', 'actor', 'menester', 'tener', 'claro', 'trata', 'alteracion', 'homeostasis', 'individuo', 'afecta', 'distintas', 'areas', 'vida', 'personal', 'vida', 'relacion', 'pareja', 'ambito', 'laboral', 'cambios', 'humor', 'animo', 'hechos', 'manifiesta', 'depresiones', 'inhibiciones', 'fobias', 'cambios', 'alimentarios', 'aislamiento', 'desgano', 'mencion', 'sintomas', 'aislados', 'constituye', 'si', 'dano', 'psiquico', 'menester', 'cualquier', 'patologia', 'constituya', 'sindrome', 'coherente', 'cuanto', 'actor', 'observar', 'secuelas', 'fisicas', 'asi', 'accidente', 'afectado', 'distintas', 'areas', 'personal', 'familiar', 'pareja', 'pesar', 'lesiones', 'actor', 'logrado', 'continuar', 'vida', 'normal', 'reinsertarse', 'ambito', 'laboral', 'mantener', 'relacion', 'pares', 'dificultades', 'movilidad', 'asi', 'dolores', 'hechos', 'aquejan', 'respuesta', '\\\\x0cle', 'dificultan', 'compartir', 'actividades', 'deportivas', 'amigos', 'dificultades', 'aisladas', 'menciono', 'secuelas', 'accidente', 'constituyen', 'si', 'mismas', 'dano', 'psiquico', 'conforman', 'dr', 'risso', 'define', 'dano', 'moral', 'mismo', 'define', 'sufrimiento', 'normal', 'afeccion', 'observaciones', 'perito', 'coinciden', 'expuesto', 'profesional', 'llevo', 'cabo', 'psicodiagnostico', 'puede', 'concluir', 'actor', 'presenta', 'incapacidad', 'secuelas', 'psicologicas', 'vii', 'conclusiones', 'secuelas', 'tobillo', 'izquierdo', 'presenta', 'actor', 'consecuencia', 'accidente', 'padecio', 'tratamiento', 'efectuo', 'segun', 'referencias', 'actor', 'adecuadas', 'cuanto', 'inmovilizacion', 'tratamiento', 'kinesiologico', 'embargo', 'obtuvo', 'resultado', 'satisfactorio', 'podria', 'corresponder', 'inmovilizacion', 'adecuada', 'tratamiento', 'kinesico', 'incompleto', 'conclusiones', 'base', 'hecho', 'aun', 'persiste', 'dificultades', 'movilidad', 'dolores', 'consecuencia', 'persiste', 'esguince', 'observa', 'rmn', 'solicitada', 'tendones', 'musculos', 'mejorar', 'movilidad', 'misma', 'articulacion', 'agravando', 'aun', 'mas', 'cuadro', 'respecto', 'dano', 'psicologico', 'expresado', 'constatado', 'sintomas', 'refirio', 'actor', 'afectaron', 'diferentes', 'esferas', 'vida', 'alterado', 'personal', 'familiar', 'pareja', 'ah', 'reinsertado', 'ambito', 'laboral', 'dificultades', 'observado', 'perito', 'coincidente', 'observado', 'profesional', 'llevado', 'cabo', 'psicodiagnostico', 'dolencias', 'dificultades', 'movilidad', 'presenta', 'actor', 'determina', 'presente', 'dificultades', 'intermedias', 'realizacion', 'tareas', 'habituales', 'vista', 'genera', 'dificultades', 'deambular', 'pie', 'tiempo', 'prolongado', 'considera', 'requiera', 'recalificacion', 'vista', 'desarrolla', 'tareas', 'laborales', 'cuenta', 'efectos', 'fiscales', 'denuncio', 'cuit', 'n', 'hallo', 'inscripta', 'responsable', 'inscripta', 'momento', 'deposito', 'honorarios', 'considere', 'deposito', 'i', 'v', 'articulacion', 'factible', 'inestabilidad', 'actor', 'sufra', 'lesion', 'actor', 'deberia', 'completar', 'tratamiento', 'kinesico', 'fin', 'fortificar', '\\\\x0c', 'vii', 'incapacidad', 'actor', 'lesiones', 'sufridas', 'presenta', 'incapacidad', 'parcial', 'permanente', 'segun', 'baremo', 'mencionado', 'factores', 'ponderacion', 'amerita', 'recalificacion', 'dificultad', 'tareas', 'habituales', 'intermedia', 'edad', 'incapacidad', 'parcial', 'permanente', 'segun', 'baremo', 'ley', 'viii', 'contestacion', 'puntos', 'pericia', 'viii', 'parte', 'actora', 'contestado', 'informe', 'pericial', 'contestado', 'informe', 'pericial', 'contestado', 'informe', 'pericial', 'contestado', 'informe', 'pericial', 'contestado', 'informe', 'pericial', 'contestado', 'informe', 'pericial', '\\\\x0c', 'contestado', 'informe', 'pericial', 'contestado', 'informe', 'pericial', 'contestado', 'informe', 'pericial', 'contestado', 'informe', 'pericial', 'psicologicos', 'contestado', 'informe', 'pericial', 'contestado', 'informe', 'pericial', 'contestado', 'informe', 'pericial', 'contestado', 'informe', 'pericial', 'contestado', 'informe', 'pericial', 'contestado', 'informe', 'pericial', 'contestado', 'informe', 'pericial', 'contestado', 'informe', 'pericial', 'viii', 'parte', 'demandada', 'contestado', 'informe', 'pericial', 'contestado', 'presente', 'informe', 'contestado', 'informe', 'pericial', 'contestado', 'informe', 'pericial', 'contestado', 'informe', 'pericial', 'contestado', 'informe', 'pericial', 'contestado', 'informe', 'pericial', 'contestado', 'informe', 'pericial', 'ix', 'petitorio', 'finalizado', 'trabajo', 'encomendado', 'respetuosamente', 'solicito', 'cumplida', 'tarea', 'pericial', 'legal', 'tiempo', 'forma', 'ordene', 'agregar', 'presente', 'informe', 'autos', 'elevara', 'copia', 'oportunamente', 'regule', 'honorarios', 'correspondientes', 'cuenta', 'v', 's', 'digitalizada', 'sistema', 'fin', 'darle', 'traslado', 'partes', 'calidad', 'tipo', 'extension', 'trabajo', 'realizado', 'forma', 'digitalizada', 'cuanto', 'puedo', 'informar', 'v', 's', 'dios', 'guarde', 'adjuntan', 'copias', 'traslado', 'traves', 'sistema', 'informatico', '\\\\x0c']\n"
     ]
    }
   ],
   "source": [
    "#para ver un expediente, verifico que me tokenize correctamente.\n",
    "print (df1[5])"
   ]
  },
  {
   "cell_type": "code",
   "execution_count": 27,
   "metadata": {},
   "outputs": [
    {
     "ename": "KeyError",
     "evalue": "\"None of [Index(['informa', 'continuacion', 'j', 't', 'perito', 'medico', 'presenta',\\n       'informe', 'pericial', 'autos',\\n       ...\\n       's', 'dios', 'guarde', 'adjuntan', 'copias', 'traslado', 'traves',\\n       'sistema', 'informatico', '\\\\x0c'],\\n      dtype='object', length=2046)] are in the [index]\"",
     "output_type": "error",
     "traceback": [
      "\u001b[1;31m---------------------------------------------------------------------------\u001b[0m",
      "\u001b[1;31mKeyError\u001b[0m                                  Traceback (most recent call last)",
      "\u001b[1;32mc:\\Users\\brena\\HubLegal\\Repo\\limpiezaTexto.ipynb Cell 28'\u001b[0m in \u001b[0;36m<cell line: 3>\u001b[1;34m()\u001b[0m\n\u001b[0;32m      <a href='vscode-notebook-cell:/c%3A/Users/brena/HubLegal/Repo/limpiezaTexto.ipynb#ch0000033?line=1'>2</a>\u001b[0m top_dict \u001b[39m=\u001b[39m {}\n\u001b[0;32m      <a href='vscode-notebook-cell:/c%3A/Users/brena/HubLegal/Repo/limpiezaTexto.ipynb#ch0000033?line=2'>3</a>\u001b[0m \u001b[39mfor\u001b[39;00m c \u001b[39min\u001b[39;00m df1:\n\u001b[1;32m----> <a href='vscode-notebook-cell:/c%3A/Users/brena/HubLegal/Repo/limpiezaTexto.ipynb#ch0000033?line=3'>4</a>\u001b[0m     top \u001b[39m=\u001b[39m df1[c]\u001b[39m.\u001b[39msort_values(ascending\u001b[39m=\u001b[39m\u001b[39mFalse\u001b[39;00m)\u001b[39m.\u001b[39mhead(\u001b[39m30\u001b[39m)\n\u001b[0;32m      <a href='vscode-notebook-cell:/c%3A/Users/brena/HubLegal/Repo/limpiezaTexto.ipynb#ch0000033?line=4'>5</a>\u001b[0m     top_dict[c] \u001b[39m=\u001b[39m \u001b[39mlist\u001b[39m(\u001b[39mzip\u001b[39m(top\u001b[39m.\u001b[39mindex, top\u001b[39m.\u001b[39mvalues))\n\u001b[0;32m      <a href='vscode-notebook-cell:/c%3A/Users/brena/HubLegal/Repo/limpiezaTexto.ipynb#ch0000033?line=5'>6</a>\u001b[0m     \u001b[39mprint\u001b[39m(top_dict)\n",
      "File \u001b[1;32mc:\\Users\\brena\\HubLegal\\env\\lib\\site-packages\\pandas\\core\\series.py:984\u001b[0m, in \u001b[0;36mSeries.__getitem__\u001b[1;34m(self, key)\u001b[0m\n\u001b[0;32m    <a href='file:///c%3A/Users/brena/HubLegal/env/lib/site-packages/pandas/core/series.py?line=980'>981</a>\u001b[0m     key \u001b[39m=\u001b[39m np\u001b[39m.\u001b[39masarray(key, dtype\u001b[39m=\u001b[39m\u001b[39mbool\u001b[39m)\n\u001b[0;32m    <a href='file:///c%3A/Users/brena/HubLegal/env/lib/site-packages/pandas/core/series.py?line=981'>982</a>\u001b[0m     \u001b[39mreturn\u001b[39;00m \u001b[39mself\u001b[39m\u001b[39m.\u001b[39m_get_values(key)\n\u001b[1;32m--> <a href='file:///c%3A/Users/brena/HubLegal/env/lib/site-packages/pandas/core/series.py?line=983'>984</a>\u001b[0m \u001b[39mreturn\u001b[39;00m \u001b[39mself\u001b[39;49m\u001b[39m.\u001b[39;49m_get_with(key)\n",
      "File \u001b[1;32mc:\\Users\\brena\\HubLegal\\env\\lib\\site-packages\\pandas\\core\\series.py:1024\u001b[0m, in \u001b[0;36mSeries._get_with\u001b[1;34m(self, key)\u001b[0m\n\u001b[0;32m   <a href='file:///c%3A/Users/brena/HubLegal/env/lib/site-packages/pandas/core/series.py?line=1020'>1021</a>\u001b[0m         \u001b[39mreturn\u001b[39;00m \u001b[39mself\u001b[39m\u001b[39m.\u001b[39miloc[key]\n\u001b[0;32m   <a href='file:///c%3A/Users/brena/HubLegal/env/lib/site-packages/pandas/core/series.py?line=1022'>1023</a>\u001b[0m \u001b[39m# handle the dup indexing case GH#4246\u001b[39;00m\n\u001b[1;32m-> <a href='file:///c%3A/Users/brena/HubLegal/env/lib/site-packages/pandas/core/series.py?line=1023'>1024</a>\u001b[0m \u001b[39mreturn\u001b[39;00m \u001b[39mself\u001b[39;49m\u001b[39m.\u001b[39;49mloc[key]\n",
      "File \u001b[1;32mc:\\Users\\brena\\HubLegal\\env\\lib\\site-packages\\pandas\\core\\indexing.py:967\u001b[0m, in \u001b[0;36m_LocationIndexer.__getitem__\u001b[1;34m(self, key)\u001b[0m\n\u001b[0;32m    <a href='file:///c%3A/Users/brena/HubLegal/env/lib/site-packages/pandas/core/indexing.py?line=963'>964</a>\u001b[0m axis \u001b[39m=\u001b[39m \u001b[39mself\u001b[39m\u001b[39m.\u001b[39maxis \u001b[39mor\u001b[39;00m \u001b[39m0\u001b[39m\n\u001b[0;32m    <a href='file:///c%3A/Users/brena/HubLegal/env/lib/site-packages/pandas/core/indexing.py?line=965'>966</a>\u001b[0m maybe_callable \u001b[39m=\u001b[39m com\u001b[39m.\u001b[39mapply_if_callable(key, \u001b[39mself\u001b[39m\u001b[39m.\u001b[39mobj)\n\u001b[1;32m--> <a href='file:///c%3A/Users/brena/HubLegal/env/lib/site-packages/pandas/core/indexing.py?line=966'>967</a>\u001b[0m \u001b[39mreturn\u001b[39;00m \u001b[39mself\u001b[39;49m\u001b[39m.\u001b[39;49m_getitem_axis(maybe_callable, axis\u001b[39m=\u001b[39;49maxis)\n",
      "File \u001b[1;32mc:\\Users\\brena\\HubLegal\\env\\lib\\site-packages\\pandas\\core\\indexing.py:1191\u001b[0m, in \u001b[0;36m_LocIndexer._getitem_axis\u001b[1;34m(self, key, axis)\u001b[0m\n\u001b[0;32m   <a href='file:///c%3A/Users/brena/HubLegal/env/lib/site-packages/pandas/core/indexing.py?line=1187'>1188</a>\u001b[0m     \u001b[39mif\u001b[39;00m \u001b[39mhasattr\u001b[39m(key, \u001b[39m\"\u001b[39m\u001b[39mndim\u001b[39m\u001b[39m\"\u001b[39m) \u001b[39mand\u001b[39;00m key\u001b[39m.\u001b[39mndim \u001b[39m>\u001b[39m \u001b[39m1\u001b[39m:\n\u001b[0;32m   <a href='file:///c%3A/Users/brena/HubLegal/env/lib/site-packages/pandas/core/indexing.py?line=1188'>1189</a>\u001b[0m         \u001b[39mraise\u001b[39;00m \u001b[39mValueError\u001b[39;00m(\u001b[39m\"\u001b[39m\u001b[39mCannot index with multidimensional key\u001b[39m\u001b[39m\"\u001b[39m)\n\u001b[1;32m-> <a href='file:///c%3A/Users/brena/HubLegal/env/lib/site-packages/pandas/core/indexing.py?line=1190'>1191</a>\u001b[0m     \u001b[39mreturn\u001b[39;00m \u001b[39mself\u001b[39;49m\u001b[39m.\u001b[39;49m_getitem_iterable(key, axis\u001b[39m=\u001b[39;49maxis)\n\u001b[0;32m   <a href='file:///c%3A/Users/brena/HubLegal/env/lib/site-packages/pandas/core/indexing.py?line=1192'>1193</a>\u001b[0m \u001b[39m# nested tuple slicing\u001b[39;00m\n\u001b[0;32m   <a href='file:///c%3A/Users/brena/HubLegal/env/lib/site-packages/pandas/core/indexing.py?line=1193'>1194</a>\u001b[0m \u001b[39mif\u001b[39;00m is_nested_tuple(key, labels):\n",
      "File \u001b[1;32mc:\\Users\\brena\\HubLegal\\env\\lib\\site-packages\\pandas\\core\\indexing.py:1132\u001b[0m, in \u001b[0;36m_LocIndexer._getitem_iterable\u001b[1;34m(self, key, axis)\u001b[0m\n\u001b[0;32m   <a href='file:///c%3A/Users/brena/HubLegal/env/lib/site-packages/pandas/core/indexing.py?line=1128'>1129</a>\u001b[0m \u001b[39mself\u001b[39m\u001b[39m.\u001b[39m_validate_key(key, axis)\n\u001b[0;32m   <a href='file:///c%3A/Users/brena/HubLegal/env/lib/site-packages/pandas/core/indexing.py?line=1130'>1131</a>\u001b[0m \u001b[39m# A collection of keys\u001b[39;00m\n\u001b[1;32m-> <a href='file:///c%3A/Users/brena/HubLegal/env/lib/site-packages/pandas/core/indexing.py?line=1131'>1132</a>\u001b[0m keyarr, indexer \u001b[39m=\u001b[39m \u001b[39mself\u001b[39;49m\u001b[39m.\u001b[39;49m_get_listlike_indexer(key, axis)\n\u001b[0;32m   <a href='file:///c%3A/Users/brena/HubLegal/env/lib/site-packages/pandas/core/indexing.py?line=1132'>1133</a>\u001b[0m \u001b[39mreturn\u001b[39;00m \u001b[39mself\u001b[39m\u001b[39m.\u001b[39mobj\u001b[39m.\u001b[39m_reindex_with_indexers(\n\u001b[0;32m   <a href='file:///c%3A/Users/brena/HubLegal/env/lib/site-packages/pandas/core/indexing.py?line=1133'>1134</a>\u001b[0m     {axis: [keyarr, indexer]}, copy\u001b[39m=\u001b[39m\u001b[39mTrue\u001b[39;00m, allow_dups\u001b[39m=\u001b[39m\u001b[39mTrue\u001b[39;00m\n\u001b[0;32m   <a href='file:///c%3A/Users/brena/HubLegal/env/lib/site-packages/pandas/core/indexing.py?line=1134'>1135</a>\u001b[0m )\n",
      "File \u001b[1;32mc:\\Users\\brena\\HubLegal\\env\\lib\\site-packages\\pandas\\core\\indexing.py:1327\u001b[0m, in \u001b[0;36m_LocIndexer._get_listlike_indexer\u001b[1;34m(self, key, axis)\u001b[0m\n\u001b[0;32m   <a href='file:///c%3A/Users/brena/HubLegal/env/lib/site-packages/pandas/core/indexing.py?line=1323'>1324</a>\u001b[0m ax \u001b[39m=\u001b[39m \u001b[39mself\u001b[39m\u001b[39m.\u001b[39mobj\u001b[39m.\u001b[39m_get_axis(axis)\n\u001b[0;32m   <a href='file:///c%3A/Users/brena/HubLegal/env/lib/site-packages/pandas/core/indexing.py?line=1324'>1325</a>\u001b[0m axis_name \u001b[39m=\u001b[39m \u001b[39mself\u001b[39m\u001b[39m.\u001b[39mobj\u001b[39m.\u001b[39m_get_axis_name(axis)\n\u001b[1;32m-> <a href='file:///c%3A/Users/brena/HubLegal/env/lib/site-packages/pandas/core/indexing.py?line=1326'>1327</a>\u001b[0m keyarr, indexer \u001b[39m=\u001b[39m ax\u001b[39m.\u001b[39;49m_get_indexer_strict(key, axis_name)\n\u001b[0;32m   <a href='file:///c%3A/Users/brena/HubLegal/env/lib/site-packages/pandas/core/indexing.py?line=1328'>1329</a>\u001b[0m \u001b[39mreturn\u001b[39;00m keyarr, indexer\n",
      "File \u001b[1;32mc:\\Users\\brena\\HubLegal\\env\\lib\\site-packages\\pandas\\core\\indexes\\base.py:5782\u001b[0m, in \u001b[0;36mIndex._get_indexer_strict\u001b[1;34m(self, key, axis_name)\u001b[0m\n\u001b[0;32m   <a href='file:///c%3A/Users/brena/HubLegal/env/lib/site-packages/pandas/core/indexes/base.py?line=5778'>5779</a>\u001b[0m \u001b[39melse\u001b[39;00m:\n\u001b[0;32m   <a href='file:///c%3A/Users/brena/HubLegal/env/lib/site-packages/pandas/core/indexes/base.py?line=5779'>5780</a>\u001b[0m     keyarr, indexer, new_indexer \u001b[39m=\u001b[39m \u001b[39mself\u001b[39m\u001b[39m.\u001b[39m_reindex_non_unique(keyarr)\n\u001b[1;32m-> <a href='file:///c%3A/Users/brena/HubLegal/env/lib/site-packages/pandas/core/indexes/base.py?line=5781'>5782</a>\u001b[0m \u001b[39mself\u001b[39;49m\u001b[39m.\u001b[39;49m_raise_if_missing(keyarr, indexer, axis_name)\n\u001b[0;32m   <a href='file:///c%3A/Users/brena/HubLegal/env/lib/site-packages/pandas/core/indexes/base.py?line=5783'>5784</a>\u001b[0m keyarr \u001b[39m=\u001b[39m \u001b[39mself\u001b[39m\u001b[39m.\u001b[39mtake(indexer)\n\u001b[0;32m   <a href='file:///c%3A/Users/brena/HubLegal/env/lib/site-packages/pandas/core/indexes/base.py?line=5784'>5785</a>\u001b[0m \u001b[39mif\u001b[39;00m \u001b[39misinstance\u001b[39m(key, Index):\n\u001b[0;32m   <a href='file:///c%3A/Users/brena/HubLegal/env/lib/site-packages/pandas/core/indexes/base.py?line=5785'>5786</a>\u001b[0m     \u001b[39m# GH 42790 - Preserve name from an Index\u001b[39;00m\n",
      "File \u001b[1;32mc:\\Users\\brena\\HubLegal\\env\\lib\\site-packages\\pandas\\core\\indexes\\base.py:5842\u001b[0m, in \u001b[0;36mIndex._raise_if_missing\u001b[1;34m(self, key, indexer, axis_name)\u001b[0m\n\u001b[0;32m   <a href='file:///c%3A/Users/brena/HubLegal/env/lib/site-packages/pandas/core/indexes/base.py?line=5839'>5840</a>\u001b[0m     \u001b[39mif\u001b[39;00m use_interval_msg:\n\u001b[0;32m   <a href='file:///c%3A/Users/brena/HubLegal/env/lib/site-packages/pandas/core/indexes/base.py?line=5840'>5841</a>\u001b[0m         key \u001b[39m=\u001b[39m \u001b[39mlist\u001b[39m(key)\n\u001b[1;32m-> <a href='file:///c%3A/Users/brena/HubLegal/env/lib/site-packages/pandas/core/indexes/base.py?line=5841'>5842</a>\u001b[0m     \u001b[39mraise\u001b[39;00m \u001b[39mKeyError\u001b[39;00m(\u001b[39mf\u001b[39m\u001b[39m\"\u001b[39m\u001b[39mNone of [\u001b[39m\u001b[39m{\u001b[39;00mkey\u001b[39m}\u001b[39;00m\u001b[39m] are in the [\u001b[39m\u001b[39m{\u001b[39;00maxis_name\u001b[39m}\u001b[39;00m\u001b[39m]\u001b[39m\u001b[39m\"\u001b[39m)\n\u001b[0;32m   <a href='file:///c%3A/Users/brena/HubLegal/env/lib/site-packages/pandas/core/indexes/base.py?line=5843'>5844</a>\u001b[0m not_found \u001b[39m=\u001b[39m \u001b[39mlist\u001b[39m(ensure_index(key)[missing_mask\u001b[39m.\u001b[39mnonzero()[\u001b[39m0\u001b[39m]]\u001b[39m.\u001b[39munique())\n\u001b[0;32m   <a href='file:///c%3A/Users/brena/HubLegal/env/lib/site-packages/pandas/core/indexes/base.py?line=5844'>5845</a>\u001b[0m \u001b[39mraise\u001b[39;00m \u001b[39mKeyError\u001b[39;00m(\u001b[39mf\u001b[39m\u001b[39m\"\u001b[39m\u001b[39m{\u001b[39;00mnot_found\u001b[39m}\u001b[39;00m\u001b[39m not in index\u001b[39m\u001b[39m\"\u001b[39m)\n",
      "\u001b[1;31mKeyError\u001b[0m: \"None of [Index(['informa', 'continuacion', 'j', 't', 'perito', 'medico', 'presenta',\\n       'informe', 'pericial', 'autos',\\n       ...\\n       's', 'dios', 'guarde', 'adjuntan', 'copias', 'traslado', 'traves',\\n       'sistema', 'informatico', '\\\\x0c'],\\n      dtype='object', length=2046)] are in the [index]\""
     ]
    }
   ],
   "source": [
    "#Las 30 palabras más usadas\n",
    "top_dict = {}\n",
    "for c in df1:\n",
    "    top = df1[c].sort_values(ascending=False).head(30)\n",
    "    top_dict[c] = list(zip(top.index, top.values))\n",
    "    print(top_dict)"
   ]
  },
  {
   "cell_type": "code",
   "execution_count": 29,
   "metadata": {},
   "outputs": [
    {
     "ename": "AttributeError",
     "evalue": "'list' object has no attribute 'lower'",
     "output_type": "error",
     "traceback": [
      "\u001b[1;31m---------------------------------------------------------------------------\u001b[0m",
      "\u001b[1;31mAttributeError\u001b[0m                            Traceback (most recent call last)",
      "\u001b[1;32mc:\\Users\\brena\\HubLegal\\Repo\\limpiezaTexto.ipynb Cell 29'\u001b[0m in \u001b[0;36m<cell line: 3>\u001b[1;34m()\u001b[0m\n\u001b[0;32m      <a href='vscode-notebook-cell:/c%3A/Users/brena/HubLegal/Repo/limpiezaTexto.ipynb#ch0000031?line=0'>1</a>\u001b[0m \u001b[39mfrom\u001b[39;00m \u001b[39mnltk\u001b[39;00m\u001b[39m.\u001b[39;00m\u001b[39mstem\u001b[39;00m \u001b[39mimport\u001b[39;00m SnowballStemmer\n\u001b[0;32m      <a href='vscode-notebook-cell:/c%3A/Users/brena/HubLegal/Repo/limpiezaTexto.ipynb#ch0000031?line=1'>2</a>\u001b[0m stemmer \u001b[39m=\u001b[39m SnowballStemmer(\u001b[39m'\u001b[39m\u001b[39mspanish\u001b[39m\u001b[39m'\u001b[39m)\n\u001b[1;32m----> <a href='vscode-notebook-cell:/c%3A/Users/brena/HubLegal/Repo/limpiezaTexto.ipynb#ch0000031?line=2'>3</a>\u001b[0m stemmed_text \u001b[39m=\u001b[39m [stemmer\u001b[39m.\u001b[39mstem(i) \u001b[39mfor\u001b[39;00m i \u001b[39min\u001b[39;00m df1]\n",
      "\u001b[1;32mc:\\Users\\brena\\HubLegal\\Repo\\limpiezaTexto.ipynb Cell 29'\u001b[0m in \u001b[0;36m<listcomp>\u001b[1;34m(.0)\u001b[0m\n\u001b[0;32m      <a href='vscode-notebook-cell:/c%3A/Users/brena/HubLegal/Repo/limpiezaTexto.ipynb#ch0000031?line=0'>1</a>\u001b[0m \u001b[39mfrom\u001b[39;00m \u001b[39mnltk\u001b[39;00m\u001b[39m.\u001b[39;00m\u001b[39mstem\u001b[39;00m \u001b[39mimport\u001b[39;00m SnowballStemmer\n\u001b[0;32m      <a href='vscode-notebook-cell:/c%3A/Users/brena/HubLegal/Repo/limpiezaTexto.ipynb#ch0000031?line=1'>2</a>\u001b[0m stemmer \u001b[39m=\u001b[39m SnowballStemmer(\u001b[39m'\u001b[39m\u001b[39mspanish\u001b[39m\u001b[39m'\u001b[39m)\n\u001b[1;32m----> <a href='vscode-notebook-cell:/c%3A/Users/brena/HubLegal/Repo/limpiezaTexto.ipynb#ch0000031?line=2'>3</a>\u001b[0m stemmed_text \u001b[39m=\u001b[39m [stemmer\u001b[39m.\u001b[39;49mstem(i) \u001b[39mfor\u001b[39;00m i \u001b[39min\u001b[39;00m df1]\n",
      "File \u001b[1;32mc:\\Users\\brena\\HubLegal\\env\\lib\\site-packages\\nltk\\stem\\snowball.py:5572\u001b[0m, in \u001b[0;36mSpanishStemmer.stem\u001b[1;34m(self, word)\u001b[0m\n\u001b[0;32m   <a href='file:///c%3A/Users/brena/HubLegal/env/lib/site-packages/nltk/stem/snowball.py?line=5561'>5562</a>\u001b[0m \u001b[39mdef\u001b[39;00m \u001b[39mstem\u001b[39m(\u001b[39mself\u001b[39m, word):\n\u001b[0;32m   <a href='file:///c%3A/Users/brena/HubLegal/env/lib/site-packages/nltk/stem/snowball.py?line=5562'>5563</a>\u001b[0m     \u001b[39m\"\"\"\u001b[39;00m\n\u001b[0;32m   <a href='file:///c%3A/Users/brena/HubLegal/env/lib/site-packages/nltk/stem/snowball.py?line=5563'>5564</a>\u001b[0m \u001b[39m    Stem a Spanish word and return the stemmed form.\u001b[39;00m\n\u001b[0;32m   <a href='file:///c%3A/Users/brena/HubLegal/env/lib/site-packages/nltk/stem/snowball.py?line=5564'>5565</a>\u001b[0m \n\u001b[1;32m   (...)\u001b[0m\n\u001b[0;32m   <a href='file:///c%3A/Users/brena/HubLegal/env/lib/site-packages/nltk/stem/snowball.py?line=5569'>5570</a>\u001b[0m \n\u001b[0;32m   <a href='file:///c%3A/Users/brena/HubLegal/env/lib/site-packages/nltk/stem/snowball.py?line=5570'>5571</a>\u001b[0m \u001b[39m    \"\"\"\u001b[39;00m\n\u001b[1;32m-> <a href='file:///c%3A/Users/brena/HubLegal/env/lib/site-packages/nltk/stem/snowball.py?line=5571'>5572</a>\u001b[0m     word \u001b[39m=\u001b[39m word\u001b[39m.\u001b[39;49mlower()\n\u001b[0;32m   <a href='file:///c%3A/Users/brena/HubLegal/env/lib/site-packages/nltk/stem/snowball.py?line=5573'>5574</a>\u001b[0m     \u001b[39mif\u001b[39;00m word \u001b[39min\u001b[39;00m \u001b[39mself\u001b[39m\u001b[39m.\u001b[39mstopwords:\n\u001b[0;32m   <a href='file:///c%3A/Users/brena/HubLegal/env/lib/site-packages/nltk/stem/snowball.py?line=5574'>5575</a>\u001b[0m         \u001b[39mreturn\u001b[39;00m word\n",
      "\u001b[1;31mAttributeError\u001b[0m: 'list' object has no attribute 'lower'"
     ]
    }
   ],
   "source": [
    "from nltk.stem import SnowballStemmer\n",
    "stemmer = SnowballStemmer('spanish')\n",
    "stemmed_text = [stemmer.stem(i) for i in df1]"
   ]
  }
 ],
 "metadata": {
  "interpreter": {
   "hash": "de9d38ccf709d1360c6b0d53d584288d0b45d3935908e6a9459d7c895e2ed236"
  },
  "kernelspec": {
   "display_name": "Python 3.10.4 ('env': venv)",
   "language": "python",
   "name": "python3"
  },
  "language_info": {
   "codemirror_mode": {
    "name": "ipython",
    "version": 3
   },
   "file_extension": ".py",
   "mimetype": "text/x-python",
   "name": "python",
   "nbconvert_exporter": "python",
   "pygments_lexer": "ipython3",
   "version": "3.10.4"
  },
  "orig_nbformat": 4
 },
 "nbformat": 4,
 "nbformat_minor": 2
}
