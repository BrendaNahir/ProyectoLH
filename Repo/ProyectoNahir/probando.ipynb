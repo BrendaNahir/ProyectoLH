{
 "cells": [
  {
   "cell_type": "code",
   "execution_count": null,
   "metadata": {},
   "outputs": [
    {
     "ename": "",
     "evalue": "",
     "output_type": "error",
     "traceback": [
      "\u001b[1;31mRunning cells with 'Python 3.10.4 64-bit' requires ipykernel package.\n",
      "Run the following command to install 'ipykernel' into the Python environment. \n",
      "Command: 'c:/Users/brena/AppData/Local/Programs/Python/Python310/python.exe -m pip install ipykernel -U --user --force-reinstall'"
     ]
    }
   ],
   "source": [
    "#Tokenizar\n",
    "import nltk\n",
    "nltk.download('punkt')\n",
    "\n",
    "sentence = ('Pablito clavó un clavito, que clase de clavito clavó Pablito?')\n",
    "tokens = nltk.word_tokenize(sentence)\n",
    "print(tokens)"
   ]
  },
  {
   "cell_type": "code",
   "execution_count": 6,
   "metadata": {},
   "outputs": [
    {
     "name": "stdout",
     "output_type": "stream",
     "text": [
      "['pablit', 'clav', 'un', 'clavit', ',', 'que', 'clas', 'de', 'clavit', 'clav', 'pablit', '?']\n"
     ]
    }
   ],
   "source": [
    "#Devuelve un stem, que es la palabra sin la terminación o sufijo.\n",
    "from nltk.stem import SnowballStemmer\n",
    "stemmer = SnowballStemmer('spanish')\n",
    "stemmed_text = [stemmer.stem(i) for i in tokens]\n",
    "\n",
    "print(stemmed_text)"
   ]
  },
  {
   "cell_type": "code",
   "execution_count": 8,
   "metadata": {},
   "outputs": [
    {
     "ename": "ModuleNotFoundError",
     "evalue": "No module named 'stanza'",
     "output_type": "error",
     "traceback": [
      "\u001b[1;31m---------------------------------------------------------------------------\u001b[0m",
      "\u001b[1;31mModuleNotFoundError\u001b[0m                       Traceback (most recent call last)",
      "\u001b[1;32mc:\\Users\\brena\\HubLegal\\probando.ipynb Cell 3'\u001b[0m in \u001b[0;36m<cell line: 1>\u001b[1;34m()\u001b[0m\n\u001b[1;32m----> <a href='vscode-notebook-cell:/c%3A/Users/brena/HubLegal/probando.ipynb#ch0000002?line=0'>1</a>\u001b[0m \u001b[39mimport\u001b[39;00m \u001b[39mstanza\u001b[39;00m\n\u001b[0;32m      <a href='vscode-notebook-cell:/c%3A/Users/brena/HubLegal/probando.ipynb#ch0000002?line=1'>2</a>\u001b[0m stanza\u001b[39m.\u001b[39mdowload(\u001b[39m\"\u001b[39m\u001b[39mes\u001b[39m\u001b[39m\"\u001b[39m)\n\u001b[0;32m      <a href='vscode-notebook-cell:/c%3A/Users/brena/HubLegal/probando.ipynb#ch0000002?line=2'>3</a>\u001b[0m nlp \u001b[39m=\u001b[39m stanza\u001b[39m.\u001b[39mPipeline(lang\u001b[39m=\u001b[39m\u001b[39m'\u001b[39m\u001b[39mes\u001b[39m\u001b[39m'\u001b[39m, processors\u001b[39m=\u001b[39m\u001b[39m'\u001b[39m\u001b[39mtokenize,mwt,pos,lemma\u001b[39m\u001b[39m'\u001b[39m)\n",
      "\u001b[1;31mModuleNotFoundError\u001b[0m: No module named 'stanza'"
     ]
    }
   ],
   "source": [
    "import stanza\n",
    "stanza.dowload(\"es\")\n",
    "nlp = stanza.Pipeline(lang='es', processors='tokenize,mwt,pos,lemma')\n",
    "texto_pablito = \"Pablito clavó un clavito, que clase de clavito clavó Pablito?\"\n",
    "doc = nlp(texto_pablito)\n",
    "print(*[f'Palabra: {word.text+\" \"}/tLemma: {word.lemma}' for sent in doc.sentences for word in sent.word], sep='/n')"
   ]
  },
  {
   "cell_type": "code",
   "execution_count": 39,
   "metadata": {},
   "outputs": [
    {
     "data": {
      "text/plain": [
       "'Domiciliado  en  la  calle  Robert  Kennedy    3447  de  la \\nlocalidad de Villa de Mayo  de la   Pcia. Bs.As.  estado soltero vive en pareja y tiene \\nun  hija  de  9  meses'"
      ]
     },
     "execution_count": 39,
     "metadata": {},
     "output_type": "execute_result"
    }
   ],
   "source": [
    "#Se importan las librerias necesarias y se toman los datos de muestra\n",
    "import pandas as pd\n",
    "from sklearn.feature_extraction.text import TfidfVectorizer \n",
    "dato1 = \"Domiciliado  en  la  calle  Robert  Kennedy    3447  de  la \\nlocalidad de Villa de Mayo  de la   Pcia. Bs.As.  estado soltero vive en pareja y tiene \\nun  hija  de  9  meses\"\n",
    "dato2 = \"No  refiere  alergias  medicamentosas,  refiere  antecedentes \\nquirÃºrgicos apendicectomÃ\\xada y varicocele. No recibe  tratamiento medicamentoso\"\n",
    "dato3 = \"Es zurdo  en su actividad diaria, fuma 2 cigarrillos por dÃ\\xada no consume alcohol y \\npracticaba futbol que dejÃ³\"\n"
   ]
  },
  {
   "cell_type": "code",
   "execution_count": 8,
   "metadata": {},
   "outputs": [
    {
     "name": "stdout",
     "output_type": "stream",
     "text": [
      "                                        Primer texto  \\\n",
      "0  Domiciliado  en  la  calle  Robert  Kennedy   ...   \n",
      "\n",
      "                                       Segundo texto  \\\n",
      "0  No  refiere  alergias  medicamentosas,  refier...   \n",
      "\n",
      "                                        Tercer texto  \n",
      "0  Es zurdo  en su actividad diaria, fuma 2 cigar...  \n"
     ]
    }
   ],
   "source": [
    "#Convierte los datos de muestra en DataFrame usando Pandas\n",
    "df1 = pd.DataFrame({'Primer texto': [dato1], 'Segundo texto': [dato2], 'Tercer texto': [dato3]})\n",
    "print (df1)"
   ]
  },
  {
   "cell_type": "code",
   "execution_count": 12,
   "metadata": {},
   "outputs": [],
   "source": [
    "#Inicializa el vectorizador\n",
    "#Se inicializa el vectorizador y se ajusta y transforman los datos\n",
    "tfidf_vectorizer = TfidfVectorizer()\n",
    "doc_vec = tfidf_vectorizer.fit_transform(df1.iloc[0])"
   ]
  },
  {
   "cell_type": "code",
   "execution_count": 14,
   "metadata": {},
   "outputs": [],
   "source": [
    "#Convierte los datos transformados en un marco de datos\n",
    "df2 = pd.DataFrame(doc_vec.toarray().transpose(), index= tfidf_vectorizer.get_feature_names_out())"
   ]
  },
  {
   "cell_type": "code",
   "execution_count": 16,
   "metadata": {},
   "outputs": [
    {
     "name": "stdout",
     "output_type": "stream",
     "text": [
      "                Primer texto  Segundo texto  Tercer texto\n",
      "3447                0.134457       0.000000      0.000000\n",
      "actividad           0.000000       0.000000      0.248784\n",
      "alcohol             0.000000       0.000000      0.248784\n",
      "alergias            0.000000       0.255541      0.000000\n",
      "antecedentes        0.000000       0.255541      0.000000\n",
      "apendicectomã       0.000000       0.255541      0.000000\n",
      "as                  0.134457       0.000000      0.000000\n",
      "bs                  0.134457       0.000000      0.000000\n",
      "calle               0.134457       0.000000      0.000000\n",
      "cigarrillos         0.000000       0.000000      0.248784\n",
      "consume             0.000000       0.000000      0.248784\n",
      "de                  0.672286       0.000000      0.000000\n",
      "dejã³               0.000000       0.000000      0.248784\n",
      "diaria              0.000000       0.000000      0.248784\n",
      "domiciliado         0.134457       0.000000      0.000000\n",
      "dã                  0.000000       0.000000      0.248784\n",
      "en                  0.204516       0.000000      0.189207\n",
      "es                  0.000000       0.000000      0.248784\n",
      "estado              0.134457       0.000000      0.000000\n",
      "fuma                0.000000       0.000000      0.248784\n",
      "futbol              0.000000       0.000000      0.248784\n",
      "hija                0.134457       0.000000      0.000000\n",
      "kennedy             0.134457       0.000000      0.000000\n",
      "la                  0.403372       0.000000      0.000000\n",
      "localidad           0.134457       0.000000      0.000000\n",
      "mayo                0.134457       0.000000      0.000000\n",
      "medicamentosas      0.000000       0.255541      0.000000\n",
      "medicamentoso       0.000000       0.255541      0.000000\n",
      "meses               0.134457       0.000000      0.000000\n",
      "no                  0.000000       0.388692      0.189207\n",
      "pareja              0.134457       0.000000      0.000000\n",
      "pcia                0.134457       0.000000      0.000000\n",
      "por                 0.000000       0.000000      0.248784\n",
      "practicaba          0.000000       0.000000      0.248784\n",
      "que                 0.000000       0.000000      0.248784\n",
      "quirãºrgicos        0.000000       0.255541      0.000000\n",
      "recibe              0.000000       0.255541      0.000000\n",
      "refiere             0.000000       0.511083      0.000000\n",
      "robert              0.134457       0.000000      0.000000\n",
      "soltero             0.134457       0.000000      0.000000\n",
      "su                  0.000000       0.000000      0.248784\n",
      "tiene               0.134457       0.000000      0.000000\n",
      "tratamiento         0.000000       0.255541      0.000000\n",
      "un                  0.134457       0.000000      0.000000\n",
      "varicocele          0.000000       0.255541      0.000000\n",
      "villa               0.134457       0.000000      0.000000\n",
      "vive                0.134457       0.000000      0.000000\n",
      "zurdo               0.000000       0.000000      0.248784\n"
     ]
    }
   ],
   "source": [
    "#Cambia los nombres de las columnas e imprime el resultado\n",
    "df2.columns = df1.columns\n",
    "print(df2)"
   ]
  },
  {
   "cell_type": "code",
   "execution_count": 32,
   "metadata": {},
   "outputs": [
    {
     "name": "stdout",
     "output_type": "stream",
     "text": [
      "Domiciliado  en  la  calle  Robert  Kennedy    3447  de  la \n",
      "localidad de Villa de Mayo  de la   Pcia. Bs.As.  estado soltero vive en pareja y tiene \n",
      "un  hija  de  9  meses\n"
     ]
    }
   ],
   "source": [
    "print (dato1)"
   ]
  },
  {
   "cell_type": "code",
   "execution_count": 23,
   "metadata": {},
   "outputs": [
    {
     "data": {
      "text/plain": [
       "'DomiciliadoenlacalleRobertKennedy3447dela\\nlocalidaddeVilladeMayodelaPcia.Bs.As.estadosolteroviveenparejaytiene\\nunhijade9meses'"
      ]
     },
     "execution_count": 23,
     "metadata": {},
     "output_type": "execute_result"
    }
   ],
   "source": [
    "#Elimina todos los espacios\n",
    "#dato1.replace(\" \",\"\")"
   ]
  },
  {
   "cell_type": "code",
   "execution_count": 24,
   "metadata": {},
   "outputs": [
    {
     "data": {
      "text/plain": [
       "'Domiciliado en la calle Robert Kennedy 3447 de la localidad de Villa de Mayo de la Pcia. Bs.As. estado soltero vive en pareja y tiene un hija de 9 meses'"
      ]
     },
     "execution_count": 24,
     "metadata": {},
     "output_type": "execute_result"
    }
   ],
   "source": [
    "#Elimina los espacios duplicados\n",
    "#\" \".join(dato1.split())"
   ]
  },
  {
   "cell_type": "code",
   "execution_count": 25,
   "metadata": {},
   "outputs": [
    {
     "data": {
      "text/plain": [
       "'DomiciliadoenlacalleRobertKennedy3447delalocalidaddeVilladeMayodelaPcia.Bs.As.estadosolteroviveenparejaytieneunhijade9meses'"
      ]
     },
     "execution_count": 25,
     "metadata": {},
     "output_type": "execute_result"
    }
   ],
   "source": [
    "#Elimina espacio, tabulación, nueva línea, etc\n",
    "#''.join(dato1.split())"
   ]
  },
  {
   "cell_type": "code",
   "execution_count": 26,
   "metadata": {},
   "outputs": [
    {
     "name": "stdout",
     "output_type": "stream",
     "text": [
      "DomiciliadoenlacalleRobertKennedy3447delalocalidaddeVilladeMayodelaPcia.Bs.As.estadosolteroviveenparejaytieneunhijade9meses\n"
     ]
    }
   ],
   "source": [
    "#Usando expresión regular\n",
    "#import re\n",
    "#elimin = re.compile(r'\\s+')\n",
    "#dato1 = re.sub(elimin, '', dato1)\n",
    "#print(dato1)"
   ]
  },
  {
   "cell_type": "code",
   "execution_count": 36,
   "metadata": {},
   "outputs": [],
   "source": [
    "#Elimina todos los espacios de una cadena, incluso entre palabras. Lo mismo que arriba\n",
    "#import re\n",
    "#dato1 = re.sub(r'\\s+', \"\", dato1, flags=re.UNICODE)\n",
    "#print (dato1)"
   ]
  },
  {
   "cell_type": "code",
   "execution_count": 42,
   "metadata": {},
   "outputs": [
    {
     "data": {
      "text/plain": [
       "'Domiciliado en la calle Robert Kennedy 3447 de la localidad de Villa de Mayo de la Pcia. Bs.As. estado soltero vive en pareja y tiene un hija de 9 meses'"
      ]
     },
     "execution_count": 42,
     "metadata": {},
     "output_type": "execute_result"
    }
   ],
   "source": [
    "import re\n",
    "dato1=\" \".join(re.split(\"\\s+\", dato1, flags=re.UNICODE))\n",
    "dato1"
   ]
  }
 ],
 "metadata": {
  "interpreter": {
   "hash": "c4a218e47d3f373198cb674925945189b3416406c8643f81938faccd9ec84546"
  },
  "kernelspec": {
   "display_name": "Python 3.10.4 ('env': venv)",
   "language": "python",
   "name": "python3"
  },
  "language_info": {
   "codemirror_mode": {
    "name": "ipython",
    "version": 3
   },
   "file_extension": ".py",
   "mimetype": "text/x-python",
   "name": "python",
   "nbconvert_exporter": "python",
   "pygments_lexer": "ipython3",
   "version": "3.10.4"
  },
  "orig_nbformat": 4
 },
 "nbformat": 4,
 "nbformat_minor": 2
}
