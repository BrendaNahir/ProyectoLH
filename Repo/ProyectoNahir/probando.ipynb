{
 "cells": [
  {
   "cell_type": "code",
   "execution_count": 5,
   "metadata": {},
   "outputs": [
    {
     "name": "stderr",
     "output_type": "stream",
     "text": [
      "[nltk_data] Downloading package punkt to\n",
      "[nltk_data]     C:\\Users\\brena\\AppData\\Roaming\\nltk_data...\n",
      "[nltk_data]   Unzipping tokenizers\\punkt.zip.\n"
     ]
    },
    {
     "name": "stdout",
     "output_type": "stream",
     "text": [
      "['Pablito', 'clavó', 'un', 'clavito', ',', 'que', 'clase', 'de', 'clavito', 'clavó', 'Pablito', '?']\n"
     ]
    }
   ],
   "source": [
    "#Tokenizar\n",
    "import nltk\n",
    "nltk.download('punkt')\n",
    "\n",
    "sentence = ('Pablito clavó un clavito, que clase de clavito clavó Pablito?')\n",
    "tokens = nltk.word_tokenize(sentence)\n",
    "print(tokens)"
   ]
  },
  {
   "cell_type": "code",
   "execution_count": 6,
   "metadata": {},
   "outputs": [
    {
     "name": "stdout",
     "output_type": "stream",
     "text": [
      "['pablit', 'clav', 'un', 'clavit', ',', 'que', 'clas', 'de', 'clavit', 'clav', 'pablit', '?']\n"
     ]
    }
   ],
   "source": [
    "#Devuelve un stem, que es la palabra sin la terminación o sufijo.\n",
    "from nltk.stem import SnowballStemmer\n",
    "stemmer = SnowballStemmer('spanish')\n",
    "stemmed_text = [stemmer.stem(i) for i in tokens]\n",
    "\n",
    "print(stemmed_text)"
   ]
  },
  {
   "cell_type": "code",
   "execution_count": 8,
   "metadata": {},
   "outputs": [
    {
     "ename": "ModuleNotFoundError",
     "evalue": "No module named 'stanza'",
     "output_type": "error",
     "traceback": [
      "\u001b[1;31m---------------------------------------------------------------------------\u001b[0m",
      "\u001b[1;31mModuleNotFoundError\u001b[0m                       Traceback (most recent call last)",
      "\u001b[1;32mc:\\Users\\brena\\HubLegal\\probando.ipynb Cell 3'\u001b[0m in \u001b[0;36m<cell line: 1>\u001b[1;34m()\u001b[0m\n\u001b[1;32m----> <a href='vscode-notebook-cell:/c%3A/Users/brena/HubLegal/probando.ipynb#ch0000002?line=0'>1</a>\u001b[0m \u001b[39mimport\u001b[39;00m \u001b[39mstanza\u001b[39;00m\n\u001b[0;32m      <a href='vscode-notebook-cell:/c%3A/Users/brena/HubLegal/probando.ipynb#ch0000002?line=1'>2</a>\u001b[0m stanza\u001b[39m.\u001b[39mdowload(\u001b[39m\"\u001b[39m\u001b[39mes\u001b[39m\u001b[39m\"\u001b[39m)\n\u001b[0;32m      <a href='vscode-notebook-cell:/c%3A/Users/brena/HubLegal/probando.ipynb#ch0000002?line=2'>3</a>\u001b[0m nlp \u001b[39m=\u001b[39m stanza\u001b[39m.\u001b[39mPipeline(lang\u001b[39m=\u001b[39m\u001b[39m'\u001b[39m\u001b[39mes\u001b[39m\u001b[39m'\u001b[39m, processors\u001b[39m=\u001b[39m\u001b[39m'\u001b[39m\u001b[39mtokenize,mwt,pos,lemma\u001b[39m\u001b[39m'\u001b[39m)\n",
      "\u001b[1;31mModuleNotFoundError\u001b[0m: No module named 'stanza'"
     ]
    }
   ],
   "source": [
    "import stanza\n",
    "stanza.dowload(\"es\")\n",
    "nlp = stanza.Pipeline(lang='es', processors='tokenize,mwt,pos,lemma')\n",
    "texto_pablito = \"Pablito clavó un clavito, que clase de clavito clavó Pablito?\"\n",
    "doc = nlp(texto_pablito)\n",
    "print(*[f'Palabra: {word.text+\" \"}/tLemma: {word.lemma}' for sent in doc.sentences for word in sent.word], sep='/n')"
   ]
  }
 ],
 "metadata": {
  "interpreter": {
   "hash": "de9d38ccf709d1360c6b0d53d584288d0b45d3935908e6a9459d7c895e2ed236"
  },
  "kernelspec": {
   "display_name": "Python 3.10.4 ('env': venv)",
   "language": "python",
   "name": "python3"
  },
  "language_info": {
   "codemirror_mode": {
    "name": "ipython",
    "version": 3
   },
   "file_extension": ".py",
   "mimetype": "text/x-python",
   "name": "python",
   "nbconvert_exporter": "python",
   "pygments_lexer": "ipython3",
   "version": "3.10.4"
  },
  "orig_nbformat": 4
 },
 "nbformat": 4,
 "nbformat_minor": 2
}
