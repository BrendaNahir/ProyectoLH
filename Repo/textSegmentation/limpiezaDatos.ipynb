{
 "cells": [
  {
   "cell_type": "markdown",
   "metadata": {},
   "source": [
    "## Cargar los datos"
   ]
  },
  {
   "cell_type": "code",
   "execution_count": 2,
   "metadata": {},
   "outputs": [],
   "source": [
    "\n",
    "import pandas as pd\n",
    "import numpy as np\n",
    "\n",
    "datos_completos = pd.read_csv('pericias_medicas.csv', encoding='latin-1')\n",
    "datos_text = datos_completos['text'].apply(str)"
   ]
  },
  {
   "cell_type": "markdown",
   "metadata": {},
   "source": [
    "## Visualizar los datos"
   ]
  },
  {
   "cell_type": "code",
   "execution_count": 4,
   "metadata": {},
   "outputs": [
    {
     "data": {
      "text/html": [
       "<div>\n",
       "<style scoped>\n",
       "    .dataframe tbody tr th:only-of-type {\n",
       "        vertical-align: middle;\n",
       "    }\n",
       "\n",
       "    .dataframe tbody tr th {\n",
       "        vertical-align: top;\n",
       "    }\n",
       "\n",
       "    .dataframe thead th {\n",
       "        text-align: right;\n",
       "    }\n",
       "</style>\n",
       "<table border=\"1\" class=\"dataframe\">\n",
       "  <thead>\n",
       "    <tr style=\"text-align: right;\">\n",
       "      <th></th>\n",
       "      <th>id</th>\n",
       "      <th>expediente</th>\n",
       "      <th>descripcion</th>\n",
       "      <th>text</th>\n",
       "    </tr>\n",
       "  </thead>\n",
       "  <tbody>\n",
       "    <tr>\n",
       "      <th>0</th>\n",
       "      <td>GlspwH4BnVaELRcK5Nqb</td>\n",
       "      <td>CNT71399/2017</td>\n",
       "      <td>pericia medica [presentado 30 09 2019 22 14]</td>\n",
       "      <td>\\n\\nInforma a continuaciÃ³n: \\n\\nJ.T. 13 \\nPE...</td>\n",
       "    </tr>\n",
       "    <tr>\n",
       "      <th>1</th>\n",
       "      <td>BlstwH4BnVaELRcKw9-O</td>\n",
       "      <td>CNT61076/2016</td>\n",
       "      <td>perito mÃ©dico presenta informe mÃ©dico perici...</td>\n",
       "      <td>\\n\\nJUZG. 40 \\n\\nPERITO MEDICO PRESENTA INFOR...</td>\n",
       "    </tr>\n",
       "    <tr>\n",
       "      <th>2</th>\n",
       "      <td>b1stwH4BnVaELRcKRt7I</td>\n",
       "      <td>CNT74803/2014</td>\n",
       "      <td>perito medico presenta pericia [presentado 08 ...</td>\n",
       "      <td>Expediente NÂº CNT 74803/2014 \\n \\nJUZGADO NAC...</td>\n",
       "    </tr>\n",
       "    <tr>\n",
       "      <th>3</th>\n",
       "      <td>OVstwH4BnVaELRcKA943</td>\n",
       "      <td>CNT41300/2015</td>\n",
       "      <td>perito medico presenta informe pericial [prese...</td>\n",
       "      <td>JUZGADO NACIONAL DE TRABAJO 59       LAVALLE 1...</td>\n",
       "    </tr>\n",
       "    <tr>\n",
       "      <th>4</th>\n",
       "      <td>Z1stwH4BnVaELRcK_d_5</td>\n",
       "      <td>CNT55506/2016</td>\n",
       "      <td>perito psicologo presenta informe [presentado ...</td>\n",
       "      <td>\\n\\n \\n\\nPERITO PRESENTA INFORME \\n\\n \\n\\n \\n...</td>\n",
       "    </tr>\n",
       "  </tbody>\n",
       "</table>\n",
       "</div>"
      ],
      "text/plain": [
       "                     id     expediente  \\\n",
       "0  GlspwH4BnVaELRcK5Nqb  CNT71399/2017   \n",
       "1  BlstwH4BnVaELRcKw9-O  CNT61076/2016   \n",
       "2  b1stwH4BnVaELRcKRt7I  CNT74803/2014   \n",
       "3  OVstwH4BnVaELRcKA943  CNT41300/2015   \n",
       "4  Z1stwH4BnVaELRcK_d_5  CNT55506/2016   \n",
       "\n",
       "                                         descripcion  \\\n",
       "0       pericia medica [presentado 30 09 2019 22 14]   \n",
       "1  perito mÃ©dico presenta informe mÃ©dico perici...   \n",
       "2  perito medico presenta pericia [presentado 08 ...   \n",
       "3  perito medico presenta informe pericial [prese...   \n",
       "4  perito psicologo presenta informe [presentado ...   \n",
       "\n",
       "                                                text  \n",
       "0   \\n\\nInforma a continuaciÃ³n: \\n\\nJ.T. 13 \\nPE...  \n",
       "1   \\n\\nJUZG. 40 \\n\\nPERITO MEDICO PRESENTA INFOR...  \n",
       "2  Expediente NÂº CNT 74803/2014 \\n \\nJUZGADO NAC...  \n",
       "3  JUZGADO NACIONAL DE TRABAJO 59       LAVALLE 1...  \n",
       "4   \\n\\n \\n\\nPERITO PRESENTA INFORME \\n\\n \\n\\n \\n...  "
      ]
     },
     "execution_count": 4,
     "metadata": {},
     "output_type": "execute_result"
    }
   ],
   "source": [
    "#Muestra las primeras 5 filas del dataframe\n",
    "datos_completos.head()\n",
    "#datos_text.head()"
   ]
  },
  {
   "cell_type": "code",
   "execution_count": 5,
   "metadata": {},
   "outputs": [
    {
     "data": {
      "text/html": [
       "<div>\n",
       "<style scoped>\n",
       "    .dataframe tbody tr th:only-of-type {\n",
       "        vertical-align: middle;\n",
       "    }\n",
       "\n",
       "    .dataframe tbody tr th {\n",
       "        vertical-align: top;\n",
       "    }\n",
       "\n",
       "    .dataframe thead th {\n",
       "        text-align: right;\n",
       "    }\n",
       "</style>\n",
       "<table border=\"1\" class=\"dataframe\">\n",
       "  <thead>\n",
       "    <tr style=\"text-align: right;\">\n",
       "      <th></th>\n",
       "      <th>id</th>\n",
       "      <th>expediente</th>\n",
       "      <th>descripcion</th>\n",
       "      <th>text</th>\n",
       "    </tr>\n",
       "  </thead>\n",
       "  <tbody>\n",
       "    <tr>\n",
       "      <th>3801</th>\n",
       "      <td>Nl-nwn4BnVaELRcKLRE6</td>\n",
       "      <td>CNT71702/2015</td>\n",
       "      <td>perito mÃ©dica sube informe [presentado 21 03 ...</td>\n",
       "      <td>1 \\n \\n\\n21-3-2018 \\nTRABAJO NÂº  72 \\nPRESENT...</td>\n",
       "    </tr>\n",
       "    <tr>\n",
       "      <th>3802</th>\n",
       "      <td>pF-mwn4BnVaELRcK1BDM</td>\n",
       "      <td>CNT69371/2014</td>\n",
       "      <td>perito mÃ©dico legista presenta pericia mÃ©dic...</td>\n",
       "      <td>\\n\\n \\n\\nJNT  NÂº  75  â  PARANA  520  â ...</td>\n",
       "    </tr>\n",
       "    <tr>\n",
       "      <th>3803</th>\n",
       "      <td>OF-nwn4BnVaELRcKPBGf</td>\n",
       "      <td>CNT61103/2017</td>\n",
       "      <td>perito medico presenta pericia [presentado 05 ...</td>\n",
       "      <td>\\n\\nII.- HISTORIA CLINICA \\n\\n) se dirige a V...</td>\n",
       "    </tr>\n",
       "    <tr>\n",
       "      <th>3804</th>\n",
       "      <td>1l-mwn4BnVaELRcK-xB3</td>\n",
       "      <td>CNT16621/2017</td>\n",
       "      <td>perito psicÃ³logo informa segunda incomparecen...</td>\n",
       "      <td>PERITO PSICÃLOGO INFORMA SEGUNDA INCOMPARECEN...</td>\n",
       "    </tr>\n",
       "    <tr>\n",
       "      <th>3805</th>\n",
       "      <td>BV-nwn4BnVaELRcK6xK2</td>\n",
       "      <td>CNT65323/2016</td>\n",
       "      <td>perito medico presenta pericia [presentado 02 ...</td>\n",
       "      <td>Juzgado Nacional del Trabajo NÂ°: 27 \\n\\nTte. ...</td>\n",
       "    </tr>\n",
       "  </tbody>\n",
       "</table>\n",
       "</div>"
      ],
      "text/plain": [
       "                        id     expediente  \\\n",
       "3801  Nl-nwn4BnVaELRcKLRE6  CNT71702/2015   \n",
       "3802  pF-mwn4BnVaELRcK1BDM  CNT69371/2014   \n",
       "3803  OF-nwn4BnVaELRcKPBGf  CNT61103/2017   \n",
       "3804  1l-mwn4BnVaELRcK-xB3  CNT16621/2017   \n",
       "3805  BV-nwn4BnVaELRcK6xK2  CNT65323/2016   \n",
       "\n",
       "                                            descripcion  \\\n",
       "3801  perito mÃ©dica sube informe [presentado 21 03 ...   \n",
       "3802  perito mÃ©dico legista presenta pericia mÃ©dic...   \n",
       "3803  perito medico presenta pericia [presentado 05 ...   \n",
       "3804  perito psicÃ³logo informa segunda incomparecen...   \n",
       "3805  perito medico presenta pericia [presentado 02 ...   \n",
       "\n",
       "                                                   text  \n",
       "3801  1 \\n \\n\\n21-3-2018 \\nTRABAJO NÂº  72 \\nPRESENT...  \n",
       "3802   \\n\\n \\n\\nJNT  NÂº  75  â  PARANA  520  â ...  \n",
       "3803   \\n\\nII.- HISTORIA CLINICA \\n\\n) se dirige a V...  \n",
       "3804  PERITO PSICÃLOGO INFORMA SEGUNDA INCOMPARECEN...  \n",
       "3805  Juzgado Nacional del Trabajo NÂ°: 27 \\n\\nTte. ...  "
      ]
     },
     "execution_count": 5,
     "metadata": {},
     "output_type": "execute_result"
    }
   ],
   "source": [
    "#Muestra las 5 últimas filas\n",
    "datos_completos.tail()\n",
    "#datos_text.tail()"
   ]
  },
  {
   "cell_type": "code",
   "execution_count": 6,
   "metadata": {},
   "outputs": [
    {
     "data": {
      "text/html": [
       "<div>\n",
       "<style scoped>\n",
       "    .dataframe tbody tr th:only-of-type {\n",
       "        vertical-align: middle;\n",
       "    }\n",
       "\n",
       "    .dataframe tbody tr th {\n",
       "        vertical-align: top;\n",
       "    }\n",
       "\n",
       "    .dataframe thead th {\n",
       "        text-align: right;\n",
       "    }\n",
       "</style>\n",
       "<table border=\"1\" class=\"dataframe\">\n",
       "  <thead>\n",
       "    <tr style=\"text-align: right;\">\n",
       "      <th></th>\n",
       "      <th>id</th>\n",
       "      <th>expediente</th>\n",
       "      <th>descripcion</th>\n",
       "      <th>text</th>\n",
       "    </tr>\n",
       "  </thead>\n",
       "  <tbody>\n",
       "    <tr>\n",
       "      <th>2043</th>\n",
       "      <td>zV0wwX4BnVaELRcKCSqT</td>\n",
       "      <td>CNT98061/2016</td>\n",
       "      <td>perito medico presenta pericia de gonzalez ari...</td>\n",
       "      <td>Dr Bernardo Norberto Ventisky \\nM.N. 74.167 \\n...</td>\n",
       "    </tr>\n",
       "    <tr>\n",
       "      <th>3534</th>\n",
       "      <td>al4Gwn4BnVaELRcKRz6U</td>\n",
       "      <td>CNT43576/2016</td>\n",
       "      <td>presenta informe pericial [presentado 14 10 20...</td>\n",
       "      <td>PRESENTA IN...</td>\n",
       "    </tr>\n",
       "    <tr>\n",
       "      <th>1199</th>\n",
       "      <td>h1_Bwn4BnVaELRcK7TMz</td>\n",
       "      <td>CNT65801/2014</td>\n",
       "      <td>perito medico adjunta informe pericial firmado...</td>\n",
       "      <td>\\n\\nJUZGADO NACIONAL DEL TRABAJO NRO. 52 \\nEX...</td>\n",
       "    </tr>\n",
       "    <tr>\n",
       "      <th>1542</th>\n",
       "      <td>xVyqwH4BnVaELRcKyn89</td>\n",
       "      <td>CNT6257/2017</td>\n",
       "      <td>perito informa  parte 1 de 3  [presentado 02 0...</td>\n",
       "      <td>Juz T NÂ° 20 \\n\\nSr Juez: \\n\\n PERITO MÃDICO ...</td>\n",
       "    </tr>\n",
       "    <tr>\n",
       "      <th>2062</th>\n",
       "      <td>WF04wX4BnVaELRcKRzXs</td>\n",
       "      <td>CNT6510/2015</td>\n",
       "      <td>perito medico traumatologo presenta informe pe...</td>\n",
       "      <td>JUZGADO EN PRIMERA INSTANCIA N* 28 \\nPERITO ME...</td>\n",
       "    </tr>\n",
       "    <tr>\n",
       "      <th>193</th>\n",
       "      <td>c1yWwH4BnVaELRcKTGU9</td>\n",
       "      <td>CNT8066/2017</td>\n",
       "      <td>observa pericia medica [presentado 07 09 2018 ...</td>\n",
       "      <td>OBSERVA PERICIA MEDICA. SOLICITA.-\\n\\nSeÃ±or J...</td>\n",
       "    </tr>\n",
       "    <tr>\n",
       "      <th>2204</th>\n",
       "      <td>SF2JwX4BnVaELRcK6Z7p</td>\n",
       "      <td>CNT79165/2016</td>\n",
       "      <td>pericia medica [presentado 13 07 2017 11 26]</td>\n",
       "      <td>Juzgado Nacional del Trabajo nÂº 49 \\n\\nLavall...</td>\n",
       "    </tr>\n",
       "    <tr>\n",
       "      <th>1170</th>\n",
       "      <td>O1-vwn4BnVaELRcKBRup</td>\n",
       "      <td>CNT30289/2016</td>\n",
       "      <td>presenta peritacion medica [presentado 06 04 2...</td>\n",
       "      <td>PERITO MEDICO: PRESENTA PERITACION MEDICA.- \\n...</td>\n",
       "    </tr>\n",
       "    <tr>\n",
       "      <th>2869</th>\n",
       "      <td>nVyYwH4BnVaELRcKBGcz</td>\n",
       "      <td>CNT41071/2016</td>\n",
       "      <td>perito informa [presentado 30 08 2018 19 58]</td>\n",
       "      <td>SE PRESENTA â HACE SABER \\n\\n    JUZ T ...</td>\n",
       "    </tr>\n",
       "    <tr>\n",
       "      <th>1629</th>\n",
       "      <td>41zYwH4BnVaELRcK3brl</td>\n",
       "      <td>CNT98649/2016</td>\n",
       "      <td>perito medico presenta peritacion [presentado ...</td>\n",
       "      <td>PERITO MEDICO PRESENTA PERITACION \\n\\n \\n...</td>\n",
       "    </tr>\n",
       "  </tbody>\n",
       "</table>\n",
       "</div>"
      ],
      "text/plain": [
       "                        id     expediente  \\\n",
       "2043  zV0wwX4BnVaELRcKCSqT  CNT98061/2016   \n",
       "3534  al4Gwn4BnVaELRcKRz6U  CNT43576/2016   \n",
       "1199  h1_Bwn4BnVaELRcK7TMz  CNT65801/2014   \n",
       "1542  xVyqwH4BnVaELRcKyn89   CNT6257/2017   \n",
       "2062  WF04wX4BnVaELRcKRzXs   CNT6510/2015   \n",
       "193   c1yWwH4BnVaELRcKTGU9   CNT8066/2017   \n",
       "2204  SF2JwX4BnVaELRcK6Z7p  CNT79165/2016   \n",
       "1170  O1-vwn4BnVaELRcKBRup  CNT30289/2016   \n",
       "2869  nVyYwH4BnVaELRcKBGcz  CNT41071/2016   \n",
       "1629  41zYwH4BnVaELRcK3brl  CNT98649/2016   \n",
       "\n",
       "                                            descripcion  \\\n",
       "2043  perito medico presenta pericia de gonzalez ari...   \n",
       "3534  presenta informe pericial [presentado 14 10 20...   \n",
       "1199  perito medico adjunta informe pericial firmado...   \n",
       "1542  perito informa  parte 1 de 3  [presentado 02 0...   \n",
       "2062  perito medico traumatologo presenta informe pe...   \n",
       "193   observa pericia medica [presentado 07 09 2018 ...   \n",
       "2204       pericia medica [presentado 13 07 2017 11 26]   \n",
       "1170  presenta peritacion medica [presentado 06 04 2...   \n",
       "2869       perito informa [presentado 30 08 2018 19 58]   \n",
       "1629  perito medico presenta peritacion [presentado ...   \n",
       "\n",
       "                                                   text  \n",
       "2043  Dr Bernardo Norberto Ventisky \\nM.N. 74.167 \\n...  \n",
       "3534                                     PRESENTA IN...  \n",
       "1199   \\n\\nJUZGADO NACIONAL DEL TRABAJO NRO. 52 \\nEX...  \n",
       "1542  Juz T NÂ° 20 \\n\\nSr Juez: \\n\\n PERITO MÃDICO ...  \n",
       "2062  JUZGADO EN PRIMERA INSTANCIA N* 28 \\nPERITO ME...  \n",
       "193   OBSERVA PERICIA MEDICA. SOLICITA.-\\n\\nSeÃ±or J...  \n",
       "2204  Juzgado Nacional del Trabajo nÂº 49 \\n\\nLavall...  \n",
       "1170  PERITO MEDICO: PRESENTA PERITACION MEDICA.- \\n...  \n",
       "2869       SE PRESENTA â HACE SABER \\n\\n    JUZ T ...  \n",
       "1629       PERITO MEDICO PRESENTA PERITACION \\n\\n \\n...  "
      ]
     },
     "execution_count": 6,
     "metadata": {},
     "output_type": "execute_result"
    }
   ],
   "source": [
    "#Muestra la cantidad de  filas al azar que queremos ver\n",
    "datos_completos.sample(10)\n",
    "#datos_text.sample(5)"
   ]
  },
  {
   "cell_type": "code",
   "execution_count": 7,
   "metadata": {},
   "outputs": [
    {
     "data": {
      "text/plain": [
       "(3806, 4)"
      ]
     },
     "execution_count": 7,
     "metadata": {},
     "output_type": "execute_result"
    }
   ],
   "source": [
    "#Tamaño del dataframe (filas por columnas)\n",
    "datos_completos.shape"
   ]
  },
  {
   "cell_type": "markdown",
   "metadata": {},
   "source": [
    "## Análisis de los datos"
   ]
  },
  {
   "cell_type": "code",
   "execution_count": 8,
   "metadata": {},
   "outputs": [
    {
     "name": "stdout",
     "output_type": "stream",
     "text": [
      "<class 'pandas.core.frame.DataFrame'>\n",
      "RangeIndex: 3806 entries, 0 to 3805\n",
      "Data columns (total 4 columns):\n",
      " #   Column       Non-Null Count  Dtype \n",
      "---  ------       --------------  ----- \n",
      " 0   id           3806 non-null   object\n",
      " 1   expediente   3806 non-null   object\n",
      " 2   descripcion  3806 non-null   object\n",
      " 3   text         3806 non-null   object\n",
      "dtypes: object(4)\n",
      "memory usage: 119.1+ KB\n"
     ]
    }
   ],
   "source": [
    "datos_completos.info()"
   ]
  },
  {
   "cell_type": "code",
   "execution_count": 9,
   "metadata": {},
   "outputs": [
    {
     "data": {
      "text/html": [
       "<div>\n",
       "<style scoped>\n",
       "    .dataframe tbody tr th:only-of-type {\n",
       "        vertical-align: middle;\n",
       "    }\n",
       "\n",
       "    .dataframe tbody tr th {\n",
       "        vertical-align: top;\n",
       "    }\n",
       "\n",
       "    .dataframe thead th {\n",
       "        text-align: right;\n",
       "    }\n",
       "</style>\n",
       "<table border=\"1\" class=\"dataframe\">\n",
       "  <thead>\n",
       "    <tr style=\"text-align: right;\">\n",
       "      <th></th>\n",
       "      <th>count</th>\n",
       "      <th>unique</th>\n",
       "      <th>top</th>\n",
       "      <th>freq</th>\n",
       "    </tr>\n",
       "  </thead>\n",
       "  <tbody>\n",
       "    <tr>\n",
       "      <th>id</th>\n",
       "      <td>3806</td>\n",
       "      <td>3806</td>\n",
       "      <td>GlspwH4BnVaELRcK5Nqb</td>\n",
       "      <td>1</td>\n",
       "    </tr>\n",
       "    <tr>\n",
       "      <th>expediente</th>\n",
       "      <td>3806</td>\n",
       "      <td>3063</td>\n",
       "      <td>CNT77158/2015</td>\n",
       "      <td>11</td>\n",
       "    </tr>\n",
       "    <tr>\n",
       "      <th>descripcion</th>\n",
       "      <td>3806</td>\n",
       "      <td>3782</td>\n",
       "      <td>pericia mÃ©dica [presentado 04 06 2017 10 18]</td>\n",
       "      <td>3</td>\n",
       "    </tr>\n",
       "    <tr>\n",
       "      <th>text</th>\n",
       "      <td>3806</td>\n",
       "      <td>3653</td>\n",
       "      <td>\\n\\n \\n\\nCONTESTA PERICIA MEDICA \\n \\nSEÃOR ...</td>\n",
       "      <td>8</td>\n",
       "    </tr>\n",
       "  </tbody>\n",
       "</table>\n",
       "</div>"
      ],
      "text/plain": [
       "            count unique                                                top  \\\n",
       "id           3806   3806                               GlspwH4BnVaELRcK5Nqb   \n",
       "expediente   3806   3063                                      CNT77158/2015   \n",
       "descripcion  3806   3782      pericia mÃ©dica [presentado 04 06 2017 10 18]   \n",
       "text         3806   3653   \\n\\n \\n\\nCONTESTA PERICIA MEDICA \\n \\nSEÃOR ...   \n",
       "\n",
       "            freq  \n",
       "id             1  \n",
       "expediente    11  \n",
       "descripcion    3  \n",
       "text           8  "
      ]
     },
     "execution_count": 9,
     "metadata": {},
     "output_type": "execute_result"
    }
   ],
   "source": [
    "datos_completos.describe().T"
   ]
  },
  {
   "cell_type": "code",
   "execution_count": 10,
   "metadata": {},
   "outputs": [
    {
     "data": {
      "text/plain": [
       "array(['GlspwH4BnVaELRcK5Nqb', 'BlstwH4BnVaELRcKw9-O',\n",
       "       'b1stwH4BnVaELRcKRt7I', ..., 'OF-nwn4BnVaELRcKPBGf',\n",
       "       '1l-mwn4BnVaELRcK-xB3', 'BV-nwn4BnVaELRcK6xK2'], dtype=object)"
      ]
     },
     "execution_count": 10,
     "metadata": {},
     "output_type": "execute_result"
    }
   ],
   "source": [
    "datos_completos['id'].unique()"
   ]
  },
  {
   "cell_type": "markdown",
   "metadata": {},
   "source": [
    "## Limpieza de los datos"
   ]
  },
  {
   "cell_type": "code",
   "execution_count": 11,
   "metadata": {},
   "outputs": [
    {
     "data": {
      "text/plain": [
       "id             0\n",
       "expediente     0\n",
       "descripcion    0\n",
       "text           0\n",
       "dtype: int64"
      ]
     },
     "execution_count": 11,
     "metadata": {},
     "output_type": "execute_result"
    }
   ],
   "source": [
    "cantidad_nulos = datos_completos.isna().sum()\n",
    "cantidad_nulos\n",
    "# No hay ninguna celda con valor nulo"
   ]
  },
  {
   "cell_type": "code",
   "execution_count": 12,
   "metadata": {},
   "outputs": [
    {
     "data": {
      "text/html": [
       "<div>\n",
       "<style scoped>\n",
       "    .dataframe tbody tr th:only-of-type {\n",
       "        vertical-align: middle;\n",
       "    }\n",
       "\n",
       "    .dataframe tbody tr th {\n",
       "        vertical-align: top;\n",
       "    }\n",
       "\n",
       "    .dataframe thead th {\n",
       "        text-align: right;\n",
       "    }\n",
       "</style>\n",
       "<table border=\"1\" class=\"dataframe\">\n",
       "  <thead>\n",
       "    <tr style=\"text-align: right;\">\n",
       "      <th></th>\n",
       "      <th>id</th>\n",
       "      <th>expediente</th>\n",
       "      <th>descripcion</th>\n",
       "      <th>text</th>\n",
       "    </tr>\n",
       "  </thead>\n",
       "  <tbody>\n",
       "  </tbody>\n",
       "</table>\n",
       "</div>"
      ],
      "text/plain": [
       "Empty DataFrame\n",
       "Columns: [id, expediente, descripcion, text]\n",
       "Index: []"
      ]
     },
     "execution_count": 12,
     "metadata": {},
     "output_type": "execute_result"
    }
   ],
   "source": [
    "datos_completos[datos_completos.duplicated()]\n",
    "#No hay celdas duplicadas"
   ]
  },
  {
   "cell_type": "code",
   "execution_count": 13,
   "metadata": {},
   "outputs": [
    {
     "data": {
      "text/plain": [
       "dtype('O')"
      ]
     },
     "execution_count": 13,
     "metadata": {},
     "output_type": "execute_result"
    }
   ],
   "source": [
    "datos_completos['id'].dtype\n",
    "#Tipo de dato object"
   ]
  },
  {
   "cell_type": "code",
   "execution_count": 14,
   "metadata": {},
   "outputs": [
    {
     "name": "stdout",
     "output_type": "stream",
     "text": [
      "0        \\n\\nInforma a continuaciÃ³n: \\n\\nJ.T. 13 \\nPE...\n",
      "1        \\n\\nJUZG. 40 \\n\\nPERITO MEDICO PRESENTA INFOR...\n",
      "2       Expediente NÂº CNT 74803/2014 \\n \\nJUZGADO NAC...\n",
      "3       JUZGADO NACIONAL DE TRABAJO 59       LAVALLE 1...\n",
      "4        \\n\\n \\n\\nPERITO PRESENTA INFORME \\n\\n \\n\\n \\n...\n",
      "                              ...                        \n",
      "3801    1 \\n \\n\\n21-3-2018 \\nTRABAJO NÂº  72 \\nPRESENT...\n",
      "3802     \\n\\n \\n\\nJNT  NÂº  75  â  PARANA  520  â ...\n",
      "3803     \\n\\nII.- HISTORIA CLINICA \\n\\n) se dirige a V...\n",
      "3804    PERITO PSICÃLOGO INFORMA SEGUNDA INCOMPARECEN...\n",
      "3805    Juzgado Nacional del Trabajo NÂ°: 27 \\n\\nTte. ...\n",
      "Name: text, Length: 3806, dtype: object\n"
     ]
    }
   ],
   "source": [
    "print(datos_text)"
   ]
  },
  {
   "cell_type": "code",
   "execution_count": 15,
   "metadata": {},
   "outputs": [
    {
     "name": "stdout",
     "output_type": "stream",
     "text": [
      "0        \\n\\nInforma a continuación: \\n\\nJ.T. 13 \\nPER...\n",
      "1        \\n\\nJUZG. 40 \\n\\nPERITO MEDICO PRESENTA INFOR...\n",
      "2       Expediente Nº CNT 74803/2014 \\n \\nJUZGADO NACI...\n",
      "3       JUZGADO NACIONAL DE TRABAJO 59       LAVALLE 1...\n",
      "4        \\n\\n \\n\\nPERITO PRESENTA INFORME \\n\\n \\n\\n \\n...\n",
      "                              ...                        \n",
      "3801    1 \\n \\n\\n21-3-2018 \\nTRABAJO Nº  72 \\nPRESENTO...\n",
      "3802     \\n\\n \\n\\nJNT  Nº  75  –  PARANA  520  –  10  ...\n",
      "3803     \\n\\nII.- HISTORIA CLINICA \\n\\n) se dirige a V...\n",
      "3804    PERITO PSICÓLOGO INFORMA SEGUNDA INCOMPARECENC...\n",
      "3805    Juzgado Nacional del Trabajo N°: 27 \\n\\nTte. G...\n",
      "Name: text, Length: 3806, dtype: object\n"
     ]
    }
   ],
   "source": [
    "import pandas as pd\n",
    "import numpy as np\n",
    "\n",
    "df = pd.read_csv('pericias_medicas.csv', sep=',',  encoding='utf-8')\n",
    "#convierte en string los datos de la columna text\n",
    "df = df['text'].apply(str)\n",
    "\n",
    "print(df)"
   ]
  },
  {
   "cell_type": "code",
   "execution_count": 16,
   "metadata": {},
   "outputs": [
    {
     "name": "stdout",
     "output_type": "stream",
     "text": [
      "                                                   text\n",
      "0        informa a continuacion    j t    perito med...\n",
      "1        juzg     perito medico presenta informe med...\n",
      "2     expediente no cnt      juzgado nacional de  in...\n",
      "3     juzgado nacional de trabajo        lavalle    ...\n",
      "4           perito presenta informe                 ...\n",
      "...                                                 ...\n",
      "3801           trabajo no    presento pericia medica...\n",
      "3802        jnt  no      parana        o  piso    to...\n",
      "3803     ii   historia clinica     se dirige a v s y...\n",
      "3804  perito psicologo informa segunda incomparecenc...\n",
      "3805  juzgado nacional del trabajo n     tte  gral p...\n",
      "\n",
      "[3806 rows x 1 columns]\n"
     ]
    }
   ],
   "source": [
    "\n",
    "import re, string, unicodedata\n",
    "\n",
    "#se hace la eliminacion de texto entre corchetes, acentos, signos de puntuacion, palabras con numeros, coloca el texto en minuscula.\n",
    "def limpiarTexto(text):\n",
    "    text = text.lower()\n",
    "    text = re.sub('\\[.*?¿\\]\\%', ' ', text)\n",
    "    text = re.sub('[%s]' % re.escape(string.punctuation), ' ', text)\n",
    "    text = re.sub('\\w*\\d\\w*', '', text)\n",
    "    text = re.sub('[‘’“”…«»]', '', text)\n",
    "    text = re.sub('\\n', ' ', text)\n",
    "    text = re.sub('\\r', ' ', text)\n",
    "    text = str(unicodedata.normalize('NFKD', text).encode('ascii','ignore'))[2:-1]\n",
    "    return text\n",
    "\n",
    "round = lambda x: limpiarTexto(x)\n",
    "df = pd.DataFrame(df.apply(round))\n",
    "print(df)"
   ]
  },
  {
   "cell_type": "code",
   "execution_count": 17,
   "metadata": {},
   "outputs": [
    {
     "name": "stdout",
     "output_type": "stream",
     "text": [
      "0       [informa, continuacion, j, t, perito, medico, ...\n",
      "1       [juzg, perito, medico, presenta, informe, medi...\n",
      "2       [expediente, cnt, juzgado, nacional, instancia...\n",
      "3       [juzgado, nacional, trabajo, lavalle, perito, ...\n",
      "4       [perito, presenta, informe, datos, personales,...\n",
      "                              ...                        \n",
      "3801    [trabajo, presento, pericia, medica, adjunto, ...\n",
      "3802    [jnt, parana, piso, tovar, juan, domingo, c, m...\n",
      "3803    [ii, historia, clinica, dirige, v, s, respetuo...\n",
      "3804    [perito, psicologo, informa, segunda, incompar...\n",
      "3805    [juzgado, nacional, trabajo, n, tte, gral, per...\n",
      "Name: text, Length: 3806, dtype: object\n"
     ]
    }
   ],
   "source": [
    "#Texto tokenizado\n",
    "import re\n",
    "import nltk\n",
    "\n",
    "stops = nltk.corpus.stopwords.words('spanish')\n",
    "\n",
    "#elimino stopwords\n",
    "def remove_stops(texto: str) -> str:\n",
    "    \"\"\"\n",
    "    Función que elimina stopwords\n",
    "    Params:\n",
    "        **texto**:texto a ser limpiado de stopwords\n",
    "\n",
    "    \"\"\"\n",
    "    texto = [\n",
    "        i for i in texto.split() if i not in stops\n",
    "    ]\n",
    "    return texto\n",
    "\n",
    "df['text'] = df['text'].apply(str)\n",
    "df1 = df['text'].apply(remove_stops)\n",
    "print(df1)"
   ]
  },
  {
   "cell_type": "code",
   "execution_count": null,
   "metadata": {},
   "outputs": [],
   "source": [
    "#para ver un expediente, verifico que me tokenize correctamente.\n",
    "#print (df1[5])"
   ]
  },
  {
   "cell_type": "code",
   "execution_count": null,
   "metadata": {},
   "outputs": [],
   "source": [
    "#Las 30 palabras más usadas (todavia no funciona)\n",
    "#top_dict = {}\n",
    "#for c in df1:\n",
    "   # top = df1[c].sort_values(ascending=False).head(30)\n",
    "   # top_dict[c] = list(zip(top.index, top.values))\n",
    "   # print(top_dict)"
   ]
  },
  {
   "cell_type": "code",
   "execution_count": 19,
   "metadata": {},
   "outputs": [],
   "source": [
    "#Stemming (todavia no funciona)\n",
    "#rom nltk.stem import SnowballStemmer\n",
    "#stemmer = SnowballStemmer('spanish')\n",
    "#stemmed_text = [stemmer.stem(i) for i in df1]"
   ]
  }
 ],
 "metadata": {
  "interpreter": {
   "hash": "de9d38ccf709d1360c6b0d53d584288d0b45d3935908e6a9459d7c895e2ed236"
  },
  "kernelspec": {
   "display_name": "Python 3.10.4 ('env': venv)",
   "language": "python",
   "name": "python3"
  },
  "language_info": {
   "codemirror_mode": {
    "name": "ipython",
    "version": 3
   },
   "file_extension": ".py",
   "mimetype": "text/x-python",
   "name": "python",
   "nbconvert_exporter": "python",
   "pygments_lexer": "ipython3",
   "version": "3.10.4"
  },
  "orig_nbformat": 4
 },
 "nbformat": 4,
 "nbformat_minor": 2
}
